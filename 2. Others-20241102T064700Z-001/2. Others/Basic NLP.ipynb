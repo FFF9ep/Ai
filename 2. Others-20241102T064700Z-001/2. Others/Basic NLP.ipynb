{
 "cells": [
  {
   "cell_type": "code",
   "execution_count": 2,
   "id": "093f683f-7313-4203-b0f9-a67e484739f8",
   "metadata": {},
   "outputs": [],
   "source": [
    "import nltk\n",
    "from nltk.tokenize import word_tokenize\n",
    "from nltk.corpus import stopwords\n",
    "from nltk.stem import PorterStemmer\n",
    "from sklearn.feature_extraction.text import CountVectorizer"
   ]
  },
  {
   "cell_type": "code",
   "execution_count": 10,
   "id": "fa9654a5-086f-4fd1-b7ab-9d1517beb3fa",
   "metadata": {},
   "outputs": [
    {
     "name": "stderr",
     "output_type": "stream",
     "text": [
      "[nltk_data] Downloading package punkt_tab to\n",
      "[nltk_data]     C:\\Users\\yufis\\AppData\\Roaming\\nltk_data...\n",
      "[nltk_data]   Unzipping tokenizers\\punkt_tab.zip.\n",
      "[nltk_data] Downloading package stopwords to\n",
      "[nltk_data]     C:\\Users\\yufis\\AppData\\Roaming\\nltk_data...\n",
      "[nltk_data]   Package stopwords is already up-to-date!\n"
     ]
    },
    {
     "data": {
      "text/plain": [
       "True"
      ]
     },
     "execution_count": 10,
     "metadata": {},
     "output_type": "execute_result"
    }
   ],
   "source": [
    "# Download NLTK resources (run this once)\n",
    "nltk.download('punkt_tab')\n",
    "nltk.download('stopwords')"
   ]
  },
  {
   "cell_type": "code",
   "execution_count": 11,
   "id": "15306907-f496-4af8-a2ba-4f3b1c0eef9f",
   "metadata": {},
   "outputs": [],
   "source": [
    "# Contoh teks\n",
    "text = \"\"\"Natural Language Processing is fascinating. \n",
    "It's a combination of linguistics and computer science.\"\"\""
   ]
  },
  {
   "cell_type": "code",
   "execution_count": 12,
   "id": "9be56518-262a-4cc1-bcef-f237345324a1",
   "metadata": {},
   "outputs": [
    {
     "name": "stdout",
     "output_type": "stream",
     "text": [
      "Tokens: ['Natural', 'Language', 'Processing', 'is', 'fascinating', '.', 'It', \"'s\", 'a', 'combination', 'of', 'linguistics', 'and', 'computer', 'science', '.']\n"
     ]
    }
   ],
   "source": [
    "# 1. Tokenisasi: Memecah teks menjadi kata-kata\n",
    "tokens = word_tokenize(text)\n",
    "print(\"Tokens:\", tokens)"
   ]
  },
  {
   "cell_type": "code",
   "execution_count": 13,
   "id": "2299d816-f102-408b-a166-2556361ede2f",
   "metadata": {},
   "outputs": [
    {
     "name": "stdout",
     "output_type": "stream",
     "text": [
      "Filtered Tokens: ['Natural', 'Language', 'Processing', 'fascinating', '.', \"'s\", 'combination', 'linguistics', 'computer', 'science', '.']\n"
     ]
    }
   ],
   "source": [
    "# 2. Stop Words Removal: Menghapus kata-kata umum yang tidak bermakna (seperti 'is', 'a', dll.)\n",
    "stop_words = set(stopwords.words('english'))\n",
    "filtered_tokens = [word for word in tokens if word.lower() not in stop_words]\n",
    "print(\"Filtered Tokens:\", filtered_tokens)"
   ]
  },
  {
   "cell_type": "code",
   "execution_count": 14,
   "id": "eb4f8b1f-657d-4383-b55a-5d800b7989af",
   "metadata": {},
   "outputs": [
    {
     "name": "stdout",
     "output_type": "stream",
     "text": [
      "Stemmed Tokens: ['natur', 'languag', 'process', 'fascin', '.', \"'s\", 'combin', 'linguist', 'comput', 'scienc', '.']\n"
     ]
    }
   ],
   "source": [
    "# 3. Stemming: Mengubah kata menjadi bentuk dasar\n",
    "ps = PorterStemmer()\n",
    "stemmed_tokens = [ps.stem(word) for word in filtered_tokens]\n",
    "print(\"Stemmed Tokens:\", stemmed_tokens)"
   ]
  },
  {
   "cell_type": "code",
   "execution_count": 15,
   "id": "b1dde60c-0090-4f48-b892-ac68e5afaa68",
   "metadata": {},
   "outputs": [
    {
     "name": "stdout",
     "output_type": "stream",
     "text": [
      "Bag of Words Representation:\n",
      " [[0 0 0 0 1 0 1 0 1 0 0 0 1 0 0 1 0 0 0]\n",
      " [0 1 1 1 0 0 0 1 0 1 0 0 0 0 1 0 1 0 0]\n",
      " [2 1 0 0 0 1 0 0 0 0 1 1 0 1 0 0 0 1 1]]\n",
      "Vocabulary:\n",
      " ['analysis' 'and' 'combination' 'computer' 'fascinating' 'involves' 'is'\n",
      " 'it' 'language' 'linguistics' 'more' 'much' 'natural' 'nlp' 'of'\n",
      " 'processing' 'science' 'sentiment' 'text']\n"
     ]
    }
   ],
   "source": [
    "# 4. Bag of Words: Representasi teks dengan frekuensi kemunculan kata\n",
    "corpus = [\"Natural Language Processing is fascinating.\",\n",
    "          \"It's a combination of linguistics and computer science.\",\n",
    "          \"NLP involves text analysis, sentiment analysis, and much more.\"]\n",
    "\n",
    "vectorizer = CountVectorizer()\n",
    "X = vectorizer.fit_transform(corpus)\n",
    "\n",
    "print(\"Bag of Words Representation:\\n\", X.toarray())\n",
    "print(\"Vocabulary:\\n\", vectorizer.get_feature_names_out())"
   ]
  },
  {
   "cell_type": "code",
   "execution_count": null,
   "id": "ba686173-3423-4f08-8403-789e36c4dca0",
   "metadata": {},
   "outputs": [],
   "source": []
  }
 ],
 "metadata": {
  "kernelspec": {
   "display_name": "Python 3 (ipykernel)",
   "language": "python",
   "name": "python3"
  },
  "language_info": {
   "codemirror_mode": {
    "name": "ipython",
    "version": 3
   },
   "file_extension": ".py",
   "mimetype": "text/x-python",
   "name": "python",
   "nbconvert_exporter": "python",
   "pygments_lexer": "ipython3",
   "version": "3.8.19"
  }
 },
 "nbformat": 4,
 "nbformat_minor": 5
}
