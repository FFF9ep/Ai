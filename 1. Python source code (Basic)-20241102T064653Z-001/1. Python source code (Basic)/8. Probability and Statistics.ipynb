{
 "cells": [
  {
   "cell_type": "markdown",
   "id": "0b10749e",
   "metadata": {},
   "source": [
    "<h2>8. Probability and Statistics</h2>"
   ]
  },
  {
   "cell_type": "markdown",
   "id": "0f5831b2",
   "metadata": {},
   "source": [
    "Probability and statistics is a branch of mathematics concerned with quantitative regularity of random phenomena. A random phenomenon is a situation in which we know what outcomes could happen, but we do not know which particular outcome did or will happen. While a decisive phenomenon is a situation in which a result inevitably occurs under certain conditions. Probability and statistics is a mathematical tool used to describe uncertainties. A large number of data mining algorithm build models based on the sample probabilistic information or through inference."
   ]
  },
  {
   "cell_type": "code",
   "execution_count": 1,
   "id": "ba158a4d",
   "metadata": {},
   "outputs": [],
   "source": [
    "# import libraries\n",
    "import numpy as np\n",
    "import scipy as sp"
   ]
  },
  {
   "cell_type": "markdown",
   "id": "fa02f77f",
   "metadata": {},
   "source": [
    "<h3>8.1 Mean Value</h3>"
   ]
  },
  {
   "cell_type": "code",
   "execution_count": 2,
   "id": "4152c5c7",
   "metadata": {},
   "outputs": [
    {
     "data": {
      "text/plain": [
       "4.5"
      ]
     },
     "execution_count": 2,
     "metadata": {},
     "output_type": "execute_result"
    }
   ],
   "source": [
    "# data preparation\n",
    "l1 = [[1, 2, 3, 4, 5, 6],\n",
    "      [3, 4, 5, 6, 7, 8]]\n",
    "\n",
    "# calculate the mean value of all elements\n",
    "np.mean(l1)"
   ]
  },
  {
   "cell_type": "code",
   "execution_count": 3,
   "id": "57a848c1",
   "metadata": {},
   "outputs": [
    {
     "data": {
      "text/plain": [
       "array([2., 3., 4., 5., 6., 7.])"
      ]
     },
     "execution_count": 3,
     "metadata": {},
     "output_type": "execute_result"
    }
   ],
   "source": [
    "# calculate the mean value by column. The value 0 indicates the column vector\n",
    "np.mean(l1, 0)"
   ]
  },
  {
   "cell_type": "code",
   "execution_count": 4,
   "id": "1720114d",
   "metadata": {},
   "outputs": [
    {
     "data": {
      "text/plain": [
       "array([3.5, 5.5])"
      ]
     },
     "execution_count": 4,
     "metadata": {},
     "output_type": "execute_result"
    }
   ],
   "source": [
    "# calculate the mean value by row. The value 1 indicates the row vector\n",
    "np.mean(l1, 1)"
   ]
  },
  {
   "cell_type": "markdown",
   "id": "271c2bcb",
   "metadata": {},
   "source": [
    "<h3>8.2 Variance</h3>"
   ]
  },
  {
   "cell_type": "code",
   "execution_count": 5,
   "id": "e4465c5c",
   "metadata": {},
   "outputs": [],
   "source": [
    "# Data preparation\n",
    "b = [1, 3, 5, 6]\n",
    "l1 = [[1, 2, 3, 4, 5, 6],\n",
    "      [3, 4, 5, 6, 7, 8]]"
   ]
  },
  {
   "cell_type": "code",
   "execution_count": 6,
   "id": "344a3ba1",
   "metadata": {},
   "outputs": [
    {
     "data": {
      "text/plain": [
       "3.6875"
      ]
     },
     "execution_count": 6,
     "metadata": {},
     "output_type": "execute_result"
    }
   ],
   "source": [
    "# calculate the variance\n",
    "np.var(b)"
   ]
  },
  {
   "cell_type": "code",
   "execution_count": 7,
   "id": "51a4e0b2",
   "metadata": {},
   "outputs": [
    {
     "data": {
      "text/plain": [
       "array([2.91666667, 2.91666667])"
      ]
     },
     "execution_count": 7,
     "metadata": {},
     "output_type": "execute_result"
    }
   ],
   "source": [
    "# calculate the variance by row\n",
    "np.var(l1, 1)"
   ]
  },
  {
   "cell_type": "markdown",
   "id": "d9acd953",
   "metadata": {},
   "source": [
    "<h3>8.3 Standard Deviation</h3>"
   ]
  },
  {
   "cell_type": "code",
   "execution_count": 8,
   "id": "72d178d1",
   "metadata": {},
   "outputs": [],
   "source": [
    "# Data preparation\n",
    "l1 = [[1, 2, 3, 4, 5, 6],\n",
    "      [3, 4, 5, 6, 7, 8]]"
   ]
  },
  {
   "cell_type": "code",
   "execution_count": 9,
   "id": "e74a6853",
   "metadata": {},
   "outputs": [
    {
     "data": {
      "text/plain": [
       "1.9790570145063195"
      ]
     },
     "execution_count": 9,
     "metadata": {},
     "output_type": "execute_result"
    }
   ],
   "source": [
    "# calculate standard deviation\n",
    "np.std(l1)"
   ]
  },
  {
   "cell_type": "markdown",
   "id": "a5529940",
   "metadata": {},
   "source": [
    "<h3>8.4 Covariance</h3>"
   ]
  },
  {
   "cell_type": "code",
   "execution_count": 10,
   "id": "80d2388c",
   "metadata": {},
   "outputs": [
    {
     "name": "stdout",
     "output_type": "stream",
     "text": [
      "[[0.5 2. ]\n",
      " [2.  8. ]]\n"
     ]
    }
   ],
   "source": [
    "# data preparation\n",
    "x = np.array([[1, 2],\n",
    "              [3, 7]])\n",
    "print(np.cov(x))"
   ]
  },
  {
   "cell_type": "markdown",
   "id": "a14abb47",
   "metadata": {},
   "source": [
    "<h3>8.5 Correlation Coefficient</h3>"
   ]
  },
  {
   "cell_type": "code",
   "execution_count": 11,
   "id": "efa04560",
   "metadata": {},
   "outputs": [],
   "source": [
    "# data preparation\n",
    "vc = [1, 2, 39, 0, 8]\n",
    "vb = [1, 2, 38, 0, 8]"
   ]
  },
  {
   "cell_type": "code",
   "execution_count": 12,
   "id": "e63f418f",
   "metadata": {},
   "outputs": [
    {
     "data": {
      "text/plain": [
       "array([[1.        , 0.99998623],\n",
       "       [0.99998623, 1.        ]])"
      ]
     },
     "execution_count": 12,
     "metadata": {},
     "output_type": "execute_result"
    }
   ],
   "source": [
    "# calculate correlation coefficient\n",
    "np.corrcoef(vc, vb)"
   ]
  },
  {
   "cell_type": "markdown",
   "id": "b1cb4976",
   "metadata": {},
   "source": [
    "<h3>8.6 Binomial Distribution</h3>"
   ]
  },
  {
   "cell_type": "markdown",
   "id": "e7f7719c",
   "metadata": {},
   "source": [
    "The random variable X, which complies with binomial distribution, indicates the number of successful times in n times of independent and identically distributed Bernoulli experiments. The success probability of each experiment is p"
   ]
  },
  {
   "cell_type": "code",
   "execution_count": 13,
   "id": "1d315278",
   "metadata": {},
   "outputs": [],
   "source": [
    "from scipy.stats import binom, norm, beta, expon\n",
    "import numpy as np\n",
    "import matplotlib.pyplot as plt"
   ]
  },
  {
   "cell_type": "code",
   "execution_count": 14,
   "id": "78e93e7f",
   "metadata": {},
   "outputs": [
    {
     "name": "stdout",
     "output_type": "stream",
     "text": [
      "Data: [4 5 3 ... 4 3 6]\n",
      "Mean: 3.0078\n",
      "SD: 1.4305\n"
     ]
    }
   ],
   "source": [
    "# the n and p parameters indicate the success times and probability in the binomial formula, respectively\n",
    "# size indicates the number of sampling times\n",
    "binom_sim = binom.rvs(n = 10, p = 0.3, size = 10000)\n",
    "print('Data:', binom_sim)\n",
    "print('Mean: %g' % np.mean(binom_sim))\n",
    "print('SD: %g' % np.std(binom_sim, ddof=1))"
   ]
  },
  {
   "cell_type": "code",
   "execution_count": 15,
   "id": "d4ebaaf3",
   "metadata": {},
   "outputs": [
    {
     "data": {
      "text/plain": [
       "<function matplotlib.pyplot.show(close=None, block=None)>"
      ]
     },
     "execution_count": 15,
     "metadata": {},
     "output_type": "execute_result"
    },
    {
     "data": {
      "image/png": "[encoded data removed]",
      "text/plain": [
       "<Figure size 432x288 with 1 Axes>"
      ]
     },
     "metadata": {
      "needs_background": "light"
     },
     "output_type": "display_data"
    }
   ],
   "source": [
    "# generate a histogram. The bins parameter indicates the number of bars in total\n",
    "# by default, the sum of percentages of all bars is 1\n",
    "plt.hist(binom_sim, bins=10)\n",
    "plt.xlabel('x')\n",
    "plt.ylabel('density')\n",
    "plt.show"
   ]
  },
  {
   "cell_type": "markdown",
   "id": "c2cd3b70",
   "metadata": {},
   "source": [
    "<h3>8.7 Poisson Distribution</h3>"
   ]
  },
  {
   "cell_type": "markdown",
   "id": "41460099",
   "metadata": {},
   "source": [
    "A random variable X that complies with the Poisson distribution indicates the number of occurrences of an event within a fixed time interval with the Lambda parameter. both the mean value and variance of the random variable X are Lambda"
   ]
  },
  {
   "cell_type": "code",
   "execution_count": 16,
   "id": "14ea847e",
   "metadata": {},
   "outputs": [],
   "source": [
    "import numpy as np\n",
    "import matplotlib.pyplot as plt"
   ]
  },
  {
   "cell_type": "code",
   "execution_count": 17,
   "id": "fd39476a",
   "metadata": {},
   "outputs": [
    {
     "data": {
      "image/png": "[encoded data removed]",
      "text/plain": [
       "<Figure size 432x288 with 1 Axes>"
      ]
     },
     "metadata": {
      "needs_background": "light"
     },
     "output_type": "display_data"
    }
   ],
   "source": [
    "# generate 10,000 numbers that comply with the Poisson distribution where the value of Lambda is 2\n",
    "X = np.random.poisson(lam=2, size=10000)\n",
    "\n",
    "a = plt.hist(X, bins=15, range=[0, 15])\n",
    "plt.grid()\n",
    "plt.show()"
   ]
  },
  {
   "cell_type": "markdown",
   "id": "c777a524",
   "metadata": {},
   "source": [
    "<h3>8.8 Normal Distribution</h3>"
   ]
  },
  {
   "cell_type": "markdown",
   "id": "ab2737f9",
   "metadata": {},
   "source": [
    "Normal distribution is a continuous probability distribution, its function can obtain a value anywhere on the curve. Normal distribution is described by two parameters: mu and sigma, which indicate the mean and standard deviation, respectively"
   ]
  },
  {
   "cell_type": "code",
   "execution_count": 18,
   "id": "967e8aa8",
   "metadata": {},
   "outputs": [
    {
     "data": {
      "image/png": "[encoded data removed]",
      "text/plain": [
       "<Figure size 432x288 with 1 Axes>"
      ]
     },
     "metadata": {
      "needs_background": "light"
     },
     "output_type": "display_data"
    }
   ],
   "source": [
    "from scipy.stats import norm\n",
    "import numpy as np\n",
    "import matplotlib.pyplot as plt\n",
    "\n",
    "mu = 0\n",
    "sigma = 1\n",
    "x = np.arange(-5, 5, 0.1) # return evenly spaced values within a given interval (start, stop, step)\n",
    "\n",
    "# generate normal distribution that complies with mu and sigma\n",
    "y = norm.pdf(x, mu, sigma)\n",
    "plt.plot(x, y)\n",
    "plt.xlabel('x')\n",
    "plt.ylabel('density')\n",
    "plt.show()"
   ]
  },
  {
   "cell_type": "code",
   "execution_count": null,
   "id": "1468c693",
   "metadata": {},
   "outputs": [],
   "source": []
  }
 ],
 "metadata": {
  "kernelspec": {
   "display_name": "Python 3 (ipykernel)",
   "language": "python",
   "name": "python3"
  },
  "language_info": {
   "codemirror_mode": {
    "name": "ipython",
    "version": 3
   },
   "file_extension": ".py",
   "mimetype": "text/x-python",
   "name": "python",
   "nbconvert_exporter": "python",
   "pygments_lexer": "ipython3",
   "version": "3.8.13"
  }
 },
 "nbformat": 4,
 "nbformat_minor": 5
}
