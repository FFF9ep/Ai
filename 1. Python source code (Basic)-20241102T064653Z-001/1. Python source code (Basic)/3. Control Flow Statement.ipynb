{
 "cells": [
  {
   "cell_type": "markdown",
   "id": "2e44eb28",
   "metadata": {},
   "source": [
    "<h2>3. Control Flow Statement</h2>"
   ]
  },
  {
   "cell_type": "markdown",
   "id": "4629fa0e",
   "metadata": {},
   "source": [
    "The <b>if</b>, <b>while</b>, and <b>for</b> statements implement traditional control flow constructs."
   ]
  },
  {
   "cell_type": "markdown",
   "id": "e300763e",
   "metadata": {},
   "source": [
    "<h3>3.1 if statement</h3>"
   ]
  },
  {
   "cell_type": "markdown",
   "id": "86fbc4e4",
   "metadata": {},
   "source": [
    "The if statement is used for conditional execution. <br><br>\n",
    "It selects exactly one of the suites by evaluating the expressions one by one until one is fouind to be true; then that suite is executed (and no other part of the if statement is executed or evaluated). If all expressions are false, the suite of the else clause, if present, is executed. <br><br>\n",
    "There can be zero or more elif parts, and the else part is optional. the keyword 'elif' is short for 'else if', and is useful to avoid excessive indentation. <br><br>\n",
    "An if ... elif ... elif ... sequence is a substitute for the switch or case statements found in other languages. <br><br>\n",
    "determine the grade by scores"
   ]
  },
  {
   "cell_type": "code",
   "execution_count": 2,
   "id": "a0b8c6d6",
   "metadata": {},
   "outputs": [
    {
     "name": "stdin",
     "output_type": "stream",
     "text": [
      "Please enter a score:  78\n"
     ]
    }
   ],
   "source": [
    "score = input(\"Please enter a score: \") # here input is a string"
   ]
  },
  {
   "cell_type": "code",
   "execution_count": 3,
   "id": "664097d3",
   "metadata": {},
   "outputs": [
    {
     "data": {
      "text/plain": [
       "str"
      ]
     },
     "execution_count": 3,
     "metadata": {},
     "output_type": "execute_result"
    }
   ],
   "source": [
    "type(score)"
   ]
  },
  {
   "cell_type": "code",
   "execution_count": 4,
   "id": "bead5e99",
   "metadata": {},
   "outputs": [],
   "source": [
    "score = float(score) # transforms the string to a floating-point number"
   ]
  },
  {
   "cell_type": "code",
   "execution_count": 5,
   "id": "ba914333",
   "metadata": {},
   "outputs": [
    {
     "name": "stdout",
     "output_type": "stream",
     "text": [
      "A\n"
     ]
    }
   ],
   "source": [
    "if 100 >= score >= 60 :\n",
    "    print(\"A\")\n",
    "else :\n",
    "    print(\"F\")"
   ]
  },
  {
   "cell_type": "code",
   "execution_count": 6,
   "id": "2394de1f",
   "metadata": {},
   "outputs": [
    {
     "name": "stdout",
     "output_type": "stream",
     "text": [
      "C\n"
     ]
    }
   ],
   "source": [
    "if 100 >= score >= 90 : # set conditions by if-elif-else statements\n",
    "    print(\"A\")\n",
    "elif 90 > score >= 80 :\n",
    "    print(\"B\")\n",
    "elif 80 > score >= 60 :\n",
    "    print(\"C\")\n",
    "elif 60 > score >= 0 :\n",
    "    print(\"F\")\n",
    "else :\n",
    "    print(\"Please enter a correct score\")"
   ]
  },
  {
   "cell_type": "markdown",
   "id": "88b130d8",
   "metadata": {},
   "source": [
    "The conditions can be True or False. 0 and None value are also False, while the other values are True"
   ]
  },
  {
   "cell_type": "code",
   "execution_count": 7,
   "id": "8216f0cf",
   "metadata": {},
   "outputs": [
    {
     "name": "stdout",
     "output_type": "stream",
     "text": [
      "T\n",
      "python\n"
     ]
    }
   ],
   "source": [
    "if 0:\n",
    "    print(\"F\")\n",
    "if 1:\n",
    "    print(\"T\")\n",
    "if \"python\":\n",
    "    print(\"python\")\n",
    "if None:\n",
    "    print(\"None\")"
   ]
  },
  {
   "cell_type": "markdown",
   "id": "ceb536a0",
   "metadata": {},
   "source": [
    "<h3>3.2 Loops</h3>"
   ]
  },
  {
   "cell_type": "markdown",
   "id": "0c124a7d",
   "metadata": {},
   "source": [
    "<h4>3.2.1 While loop</h4>"
   ]
  },
  {
   "cell_type": "markdown",
   "id": "0bcbb706",
   "metadata": {},
   "source": [
    "The while statement is used for repeated execution as long as an expression is true. It's used when we don't know the number of times to iterate beforehand.<br><br>\n",
    "A break statement executed in the first suite terminates the loop without executing the else clause;s suite.<br><br>\n",
    "A continue statement executed in the first suite skips the rest of the suite and goes back to testing the expression."
   ]
  },
  {
   "cell_type": "code",
   "execution_count": 8,
   "id": "c063dc18",
   "metadata": {},
   "outputs": [
    {
     "name": "stdout",
     "output_type": "stream",
     "text": [
      "1\n",
      "2\n",
      "3\n",
      "4\n",
      "5\n",
      "6\n",
      "7\n",
      "8\n",
      "9\n",
      "loop ends\n"
     ]
    }
   ],
   "source": [
    "i = 0\n",
    "while i < 9:\n",
    "    i += 1 # i++ # i = i + 1\n",
    "    print(i)\n",
    "else :\n",
    "    print(\"loop ends\")"
   ]
  },
  {
   "cell_type": "code",
   "execution_count": 9,
   "id": "95a343ee",
   "metadata": {},
   "outputs": [
    {
     "name": "stdout",
     "output_type": "stream",
     "text": [
      "1\n",
      "2\n",
      "Skip this loop\n",
      "4\n",
      "5\n",
      "6\n",
      "7\n",
      "8\n",
      "9\n",
      "loop ends\n"
     ]
    }
   ],
   "source": [
    "i = 0\n",
    "while i < 9:\n",
    "    i += 1\n",
    "    if i == 3:\n",
    "        print(\"Skip this loop\")\n",
    "        continue # skips the rest of the suite and goes back to testing the expression\n",
    "    print(i)\n",
    "else:\n",
    "    print(\"loop ends\")"
   ]
  },
  {
   "cell_type": "code",
   "execution_count": 10,
   "id": "58817ca0",
   "metadata": {},
   "outputs": [
    {
     "name": "stdout",
     "output_type": "stream",
     "text": [
      "1\n",
      "2\n",
      "3\n",
      "4\n",
      "Terminates the loop\n"
     ]
    }
   ],
   "source": [
    "i = 0\n",
    "while i < 9:\n",
    "    i += 1\n",
    "    if i == 5:\n",
    "        print(\"Terminates the loop\")\n",
    "        break # terminates the loop without executing the else clause's suite\n",
    "    print(i)\n",
    "else:\n",
    "    print(\"loop ends\")"
   ]
  },
  {
   "cell_type": "markdown",
   "id": "f870e121",
   "metadata": {},
   "source": [
    "<h4>3.2.2 for loop</h4>"
   ]
  },
  {
   "cell_type": "markdown",
   "id": "36cdf4f5",
   "metadata": {},
   "source": [
    "The for statement is used to iterate over the elements of a sequence (such as a string, tuple, or list) or other iterable object."
   ]
  },
  {
   "cell_type": "code",
   "execution_count": 11,
   "id": "cd96b59c",
   "metadata": {},
   "outputs": [
    {
     "name": "stdout",
     "output_type": "stream",
     "text": [
      "first\n",
      "second\n",
      "third\n"
     ]
    }
   ],
   "source": [
    "times = [\"first\", \"second\", \"third\"]\n",
    "for i in times:\n",
    "    print(i)"
   ]
  },
  {
   "cell_type": "markdown",
   "id": "07613b00",
   "metadata": {},
   "source": [
    "Else statement can be added in the end of for statement. It will be execused when the loop normally ends."
   ]
  },
  {
   "cell_type": "code",
   "execution_count": 12,
   "id": "be956ad3",
   "metadata": {},
   "outputs": [
    {
     "name": "stdout",
     "output_type": "stream",
     "text": [
      "first\n",
      "second\n",
      "third\n",
      "The loop ends\n"
     ]
    }
   ],
   "source": [
    "for i in times:\n",
    "    print(i)\n",
    "else:\n",
    "    print(\"The loop ends\")"
   ]
  },
  {
   "cell_type": "markdown",
   "id": "a865df2e",
   "metadata": {},
   "source": [
    "<h4>3.2.3 Nested Loops</h4>"
   ]
  },
  {
   "cell_type": "markdown",
   "id": "778e44a0",
   "metadata": {},
   "source": [
    "Loops can be nested in Python. A nested loop that occurs within another loop. Nested loops go over two or more loops."
   ]
  },
  {
   "cell_type": "code",
   "execution_count": 13,
   "id": "4df75657",
   "metadata": {},
   "outputs": [
    {
     "name": "stdout",
     "output_type": "stream",
     "text": [
      "1X1=1  \n",
      "1X2=2  2X2=4  \n",
      "1X3=3  2X3=6  3X3=9  \n",
      "1X4=4  2X4=8  3X4=12 4X4=16 \n",
      "1X5=5  2X5=10 3X5=15 4X5=20 5X5=25 \n",
      "1X6=6  2X6=12 3X6=18 4X6=24 5X6=30 6X6=36 \n",
      "1X7=7  2X7=14 3X7=21 4X7=28 5X7=35 6X7=42 7X7=49 \n",
      "1X8=8  2X8=16 3X8=24 4X8=32 5X8=40 6X8=48 7X8=56 8X8=64 \n",
      "1X9=9  2X9=18 3X9=27 4X9=36 5X9=45 6X9=54 7X9=63 8X9=72 9X9=81 \n"
     ]
    }
   ],
   "source": [
    "# write a multiplication table\n",
    "for i in range(1, 10): # an outer loop\n",
    "    for j in range(1, i+1): # an inner loop\n",
    "        # string formatting\n",
    "        print(\"%dX%d=%-2d\"%(j, i, j*i), end=\" \")\n",
    "    print()"
   ]
  },
  {
   "cell_type": "code",
   "execution_count": null,
   "id": "85cda4da-1ca5-486d-a383-f77e70343a0c",
   "metadata": {},
   "outputs": [],
   "source": []
  }
 ],
 "metadata": {
  "kernelspec": {
   "display_name": "Python 3 (ipykernel)",
   "language": "python",
   "name": "python3"
  },
  "language_info": {
   "codemirror_mode": {
    "name": "ipython",
    "version": 3
   },
   "file_extension": ".py",
   "mimetype": "text/x-python",
   "name": "python",
   "nbconvert_exporter": "python",
   "pygments_lexer": "ipython3",
   "version": "3.11.9"
  }
 },
 "nbformat": 4,
 "nbformat_minor": 5
}
