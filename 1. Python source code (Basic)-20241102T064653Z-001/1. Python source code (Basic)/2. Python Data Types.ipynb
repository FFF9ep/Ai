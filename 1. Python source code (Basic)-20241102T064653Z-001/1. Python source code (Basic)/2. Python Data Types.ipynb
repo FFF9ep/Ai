{
 "cells": [
  {
   "cell_type": "markdown",
   "id": "4759932f",
   "metadata": {},
   "source": [
    "<h2>2. Python Data Types</h2>"
   ]
  },
  {
   "cell_type": "markdown",
   "id": "0a1d5d2b",
   "metadata": {},
   "source": [
    "<h3>2.1 Numeric: int, float, complex</h3>"
   ]
  },
  {
   "cell_type": "markdown",
   "id": "4ca705b0",
   "metadata": {},
   "source": [
    "<h4>Number Data Type in Python</h4>"
   ]
  },
  {
   "cell_type": "markdown",
   "id": "9a9b562c",
   "metadata": {},
   "source": [
    "Python support integers, floating-point numbers and complex numbers. <br><br>\n",
    "Integers and floating points are separated by the presence or absence of a decimal point.<br><br>\n",
    "Complex numbers are written in the form, x + yj, where x is the real part and y is the imaginary part.<br><br>\n",
    "Integers can be of any length, a floating-point number is accurate only up to 15 decimal places (the 16th place is inaccurate)."
   ]
  },
  {
   "cell_type": "code",
   "execution_count": 1,
   "id": "df3cb25e",
   "metadata": {},
   "outputs": [
    {
     "name": "stdout",
     "output_type": "stream",
     "text": [
      "<class 'int'>\n"
     ]
    }
   ],
   "source": [
    "a = 5\n",
    "print(type(a))"
   ]
  },
  {
   "cell_type": "code",
   "execution_count": 2,
   "id": "2679c79d",
   "metadata": {},
   "outputs": [
    {
     "name": "stdout",
     "output_type": "stream",
     "text": [
      "<class 'float'>\n"
     ]
    }
   ],
   "source": [
    "a = 5.0\n",
    "print(type(a))"
   ]
  },
  {
   "cell_type": "code",
   "execution_count": 3,
   "id": "65903c34",
   "metadata": {},
   "outputs": [
    {
     "name": "stdout",
     "output_type": "stream",
     "text": [
      "(11+6j)\n",
      "<class 'complex'>\n"
     ]
    }
   ],
   "source": [
    "a = 5 + 6j\n",
    "print(a + 6)\n",
    "\n",
    "print(type(a))"
   ]
  },
  {
   "cell_type": "markdown",
   "id": "6e16c35e",
   "metadata": {},
   "source": [
    "<h3>2.2 Text: str</h3>"
   ]
  },
  {
   "cell_type": "markdown",
   "id": "5c51ca66",
   "metadata": {},
   "source": [
    "<h4>2.2.1 String</h4>"
   ]
  },
  {
   "cell_type": "markdown",
   "id": "9403689c",
   "metadata": {},
   "source": [
    "In Python, a string is a sequence of Unicode characters. Unicode was introduces to include every character in all languages and bring uniformly in encoding. You can learn about Unicode from Python Unicode. <br><br>\n",
    "Strings can be created by enclosing characters inside a single quote or double-quotes. Even triple quotes can be used in Python but generally used to represent multiline strings and docstrings."
   ]
  },
  {
   "cell_type": "code",
   "execution_count": 4,
   "id": "381d905c",
   "metadata": {},
   "outputs": [
    {
     "name": "stdout",
     "output_type": "stream",
     "text": [
      "I love python\n",
      "I love python\n",
      "I\n",
      "love\n",
      "Python\n",
      "13\n",
      "13\n",
      "<class 'str'>\n",
      "<class 'str'>\n",
      "<class 'str'>\n"
     ]
    }
   ],
   "source": [
    "# create a string\n",
    "\n",
    "s1 = \"I love python\"\n",
    "\n",
    "s2 = 'I love python' # in a single quote or double-quotes\n",
    "\n",
    "s3 = \"\"\"I\n",
    "love\n",
    "Python\"\"\" # Python quotes for multiline strings and docstrings\n",
    "\n",
    "print(s1)\n",
    "print(s2)\n",
    "print(s3)\n",
    "print(len(s1))\n",
    "print(len(s3))\n",
    "print(type(s1))\n",
    "print(type(s2))\n",
    "print(type(s3))"
   ]
  },
  {
   "cell_type": "markdown",
   "id": "9ae1610f",
   "metadata": {},
   "source": [
    "<h4>2.2.2 Escape Sequence</h4>"
   ]
  },
  {
   "cell_type": "markdown",
   "id": "119bf374",
   "metadata": {},
   "source": [
    "To insert characters that are illegal in a string, use an escape character.<br><br>\n",
    "An escape character is a backslash \\ followed by the character you want to insert. <br><br>\n",
    "An escape sequence starts with a backslash and is interpreted differently. If we use a single quote to represent a string, all the single quotes inside the string must be escaped. Similar is the case with double quotes"
   ]
  },
  {
   "cell_type": "code",
   "execution_count": 5,
   "id": "8a9e1506",
   "metadata": {},
   "outputs": [
    {
     "name": "stdout",
     "output_type": "stream",
     "text": [
      "python\"\n"
     ]
    }
   ],
   "source": [
    "# to show the Double quote\n",
    "s = 'python\"'\n",
    "print(s)"
   ]
  },
  {
   "cell_type": "code",
   "execution_count": 7,
   "id": "dcd7435b",
   "metadata": {},
   "outputs": [
    {
     "name": "stdout",
     "output_type": "stream",
     "text": [
      "python\\\n"
     ]
    }
   ],
   "source": [
    "# to show the Backslash\n",
    "s = 'python\\\\'\n",
    "print(s)"
   ]
  },
  {
   "cell_type": "code",
   "execution_count": 8,
   "id": "888bbb0f",
   "metadata": {},
   "outputs": [
    {
     "name": "stdout",
     "output_type": "stream",
     "text": [
      "py\n",
      "thon\n"
     ]
    }
   ],
   "source": [
    "# to start a new line\n",
    "s = \"py\\nthon\"\n",
    "print(s)"
   ]
  },
  {
   "cell_type": "markdown",
   "id": "70387c4e",
   "metadata": {},
   "source": [
    "<h4>2.2.3 Raw String</h4>"
   ]
  },
  {
   "cell_type": "markdown",
   "id": "46e58f8f",
   "metadata": {},
   "source": [
    "Sometimes we may wish to ignore the escape sequences inside a string. To do this we can place r or R in front of the string. This will imply that it is a raw string and any escape sequence inside it will be ignored."
   ]
  },
  {
   "cell_type": "code",
   "execution_count": 9,
   "id": "98bb8507",
   "metadata": {},
   "outputs": [
    {
     "name": "stdout",
     "output_type": "stream",
     "text": [
      "C:\\abc\\abc\\abc.txt\n"
     ]
    }
   ],
   "source": [
    "string = \"C:\\\\abc\\\\abc\\\\abc.txt\"\n",
    "print(string)"
   ]
  },
  {
   "cell_type": "code",
   "execution_count": 10,
   "id": "9406a7cc",
   "metadata": {},
   "outputs": [
    {
     "name": "stdout",
     "output_type": "stream",
     "text": [
      "C:\\abc\\abc\\abc.txt\n"
     ]
    }
   ],
   "source": [
    "s = r\"C:\\abc\\abc\\abc.txt\"\n",
    "print(s)"
   ]
  },
  {
   "cell_type": "markdown",
   "id": "d6c2fcbe",
   "metadata": {},
   "source": [
    "<h4>2.2.4 Access Characters in a String</h4>"
   ]
  },
  {
   "cell_type": "markdown",
   "id": "a810fdb0",
   "metadata": {},
   "source": [
    "We can access individual characters using indexing and a range of characters using slicing. Index starts from 0. Trying to access a character out of index range will raise an IndexError. The index must be an integer. We can't use floats or other types, this will result into TypeError. <br><br>\n",
    "Python allows negative indexing for its sequences.<br><br>\n",
    "The index of -1 to the last item, -2 to the second last item and so on. We can access a range of items in a string by using the slicing operator :(colon)."
   ]
  },
  {
   "cell_type": "code",
   "execution_count": 11,
   "id": "53be3d4d",
   "metadata": {},
   "outputs": [
    {
     "data": {
      "text/plain": [
       "'p'"
      ]
     },
     "execution_count": 11,
     "metadata": {},
     "output_type": "execute_result"
    }
   ],
   "source": [
    "s = \"python\"\n",
    "s[0]"
   ]
  },
  {
   "cell_type": "code",
   "execution_count": 14,
   "id": "019d7ca5",
   "metadata": {},
   "outputs": [
    {
     "data": {
      "text/plain": [
       "'n'"
      ]
     },
     "execution_count": 14,
     "metadata": {},
     "output_type": "execute_result"
    }
   ],
   "source": [
    "s[5]"
   ]
  },
  {
   "cell_type": "code",
   "execution_count": 16,
   "id": "9a71bac8",
   "metadata": {},
   "outputs": [
    {
     "data": {
      "text/plain": [
       "'o'"
      ]
     },
     "execution_count": 16,
     "metadata": {},
     "output_type": "execute_result"
    }
   ],
   "source": [
    "s[-2]"
   ]
  },
  {
   "cell_type": "code",
   "execution_count": 17,
   "id": "735ad39d",
   "metadata": {},
   "outputs": [
    {
     "ename": "IndexError",
     "evalue": "string index out of range",
     "output_type": "error",
     "traceback": [
      "\u001b[1;31m---------------------------------------------------------------------------\u001b[0m",
      "\u001b[1;31mIndexError\u001b[0m                                Traceback (most recent call last)",
      "Cell \u001b[1;32mIn[17], line 1\u001b[0m\n\u001b[1;32m----> 1\u001b[0m \u001b[43ms\u001b[49m\u001b[43m[\u001b[49m\u001b[38;5;241;43m99\u001b[39;49m\u001b[43m]\u001b[49m\n",
      "\u001b[1;31mIndexError\u001b[0m: string index out of range"
     ]
    }
   ],
   "source": [
    "s[99]"
   ]
  },
  {
   "cell_type": "code",
   "execution_count": 18,
   "id": "d4a6b68b",
   "metadata": {},
   "outputs": [
    {
     "ename": "TypeError",
     "evalue": "string indices must be integers, not 'float'",
     "output_type": "error",
     "traceback": [
      "\u001b[1;31m---------------------------------------------------------------------------\u001b[0m",
      "\u001b[1;31mTypeError\u001b[0m                                 Traceback (most recent call last)",
      "Cell \u001b[1;32mIn[18], line 1\u001b[0m\n\u001b[1;32m----> 1\u001b[0m \u001b[43ms\u001b[49m\u001b[43m[\u001b[49m\u001b[38;5;241;43m1.0\u001b[39;49m\u001b[43m]\u001b[49m\n",
      "\u001b[1;31mTypeError\u001b[0m: string indices must be integers, not 'float'"
     ]
    }
   ],
   "source": [
    "s[1.0]"
   ]
  },
  {
   "cell_type": "code",
   "execution_count": 20,
   "id": "ce672e79",
   "metadata": {},
   "outputs": [
    {
     "data": {
      "text/plain": [
       "'pyt'"
      ]
     },
     "execution_count": 20,
     "metadata": {},
     "output_type": "execute_result"
    }
   ],
   "source": [
    "# python\n",
    "s[0:3]"
   ]
  },
  {
   "cell_type": "code",
   "execution_count": 21,
   "id": "4ac92947",
   "metadata": {},
   "outputs": [
    {
     "data": {
      "text/plain": [
       "'pt'"
      ]
     },
     "execution_count": 21,
     "metadata": {},
     "output_type": "execute_result"
    }
   ],
   "source": [
    "# python\n",
    "s[0:4:2]"
   ]
  },
  {
   "cell_type": "code",
   "execution_count": 22,
   "id": "27010fe4",
   "metadata": {},
   "outputs": [
    {
     "ename": "TypeError",
     "evalue": "'str' object does not support item assignment",
     "output_type": "error",
     "traceback": [
      "\u001b[1;31m---------------------------------------------------------------------------\u001b[0m",
      "\u001b[1;31mTypeError\u001b[0m                                 Traceback (most recent call last)",
      "Cell \u001b[1;32mIn[22], line 2\u001b[0m\n\u001b[0;32m      1\u001b[0m \u001b[38;5;66;03m# unchangeable\u001b[39;00m\n\u001b[1;32m----> 2\u001b[0m \u001b[43ms\u001b[49m\u001b[43m[\u001b[49m\u001b[38;5;241;43m0\u001b[39;49m\u001b[43m]\u001b[49m \u001b[38;5;241m=\u001b[39m \u001b[38;5;124m\"\u001b[39m\u001b[38;5;124ml\u001b[39m\u001b[38;5;124m\"\u001b[39m\n",
      "\u001b[1;31mTypeError\u001b[0m: 'str' object does not support item assignment"
     ]
    }
   ],
   "source": [
    "# unchangeable\n",
    "s[0] = \"l\""
   ]
  },
  {
   "cell_type": "markdown",
   "id": "fabec3c0",
   "metadata": {},
   "source": [
    "<h4>2.2.5 String Operations</h4>"
   ]
  },
  {
   "cell_type": "markdown",
   "id": "fbe7bb72",
   "metadata": {},
   "source": [
    "There are many operations that can be performed with strings which makes it one of the most used data types in Python. <br><br>\n",
    "Joining of twon more strings into a single one is called concatenation. The + operator does this in Python.<br><br>\n",
    "The * operator can be used to repeat the string for a given number of times."
   ]
  },
  {
   "cell_type": "code",
   "execution_count": 24,
   "id": "5172f535",
   "metadata": {},
   "outputs": [
    {
     "name": "stdout",
     "output_type": "stream",
     "text": [
      "hello world\n"
     ]
    }
   ],
   "source": [
    "# + operator\n",
    "a = \"hello\"\n",
    "space = \" \"\n",
    "b = \"world\"\n",
    "print(a+space+b)"
   ]
  },
  {
   "cell_type": "code",
   "execution_count": 25,
   "id": "777c0a7d",
   "metadata": {},
   "outputs": [
    {
     "name": "stdout",
     "output_type": "stream",
     "text": [
      "hellohello\n"
     ]
    }
   ],
   "source": [
    "# * operator\n",
    "a = \"hello\"\n",
    "b = 2\n",
    "print(a*2)"
   ]
  },
  {
   "cell_type": "markdown",
   "id": "2522cdd1",
   "metadata": {},
   "source": [
    "<h4>2.2.6 Common Python String Methods</h4>"
   ]
  },
  {
   "cell_type": "markdown",
   "id": "b2d78109",
   "metadata": {},
   "source": [
    "There are numerous methods available with the string object.<br><br>\n",
    "Some of the commonly used methods are lower(), upper(), join(), split(), find(), replace(), etc"
   ]
  },
  {
   "cell_type": "code",
   "execution_count": 26,
   "id": "9dce8b1b",
   "metadata": {},
   "outputs": [
    {
     "data": {
      "text/plain": [
       "['python', 'is', 'cool']"
      ]
     },
     "execution_count": 26,
     "metadata": {},
     "output_type": "execute_result"
    }
   ],
   "source": [
    "# split\n",
    "s = \"python is cool\"\n",
    "s.split(' ')"
   ]
  },
  {
   "cell_type": "code",
   "execution_count": 27,
   "id": "6beed6b3",
   "metadata": {},
   "outputs": [
    {
     "data": {
      "text/plain": [
       "'ABCthon'"
      ]
     },
     "execution_count": 27,
     "metadata": {},
     "output_type": "execute_result"
    }
   ],
   "source": [
    "# replace\n",
    "s = 'python'\n",
    "s.replace('py', 'ABC')"
   ]
  },
  {
   "cell_type": "code",
   "execution_count": 28,
   "id": "2e62c108",
   "metadata": {},
   "outputs": [
    {
     "name": "stdout",
     "output_type": "stream",
     "text": [
      "python\n",
      "PYTHON\n"
     ]
    }
   ],
   "source": [
    "# lower and upper\n",
    "s = \"PYthon\"\n",
    "print(s.lower())\n",
    "print(s.upper())"
   ]
  },
  {
   "cell_type": "code",
   "execution_count": 30,
   "id": "b92f5be5",
   "metadata": {},
   "outputs": [
    {
     "data": {
      "text/plain": [
       "'python is cool'"
      ]
     },
     "execution_count": 30,
     "metadata": {},
     "output_type": "execute_result"
    }
   ],
   "source": [
    "# join\n",
    "\" \".join(['python', 'is', 'cool'])"
   ]
  },
  {
   "cell_type": "markdown",
   "id": "7279b68f",
   "metadata": {},
   "source": [
    "<h4>2.2.7 String formatting</h4>"
   ]
  },
  {
   "cell_type": "code",
   "execution_count": null,
   "id": "f5be1e98",
   "metadata": {},
   "outputs": [],
   "source": [
    "# switch %s and %d with AI and 63\n",
    "'My name is %s , age is %d' %('AI', 63)"
   ]
  },
  {
   "cell_type": "markdown",
   "id": "bd947e1d",
   "metadata": {},
   "source": [
    "<h3>2.3 Lists</h3>"
   ]
  },
  {
   "cell_type": "markdown",
   "id": "f65f97d2",
   "metadata": {},
   "source": [
    "Lists are mutable sequences, typically used to store collections of homogeneous items.<br><br>\n",
    "List = [obj1, obj2, ...]"
   ]
  },
  {
   "cell_type": "code",
   "execution_count": 31,
   "id": "721d6d65",
   "metadata": {},
   "outputs": [
    {
     "name": "stdout",
     "output_type": "stream",
     "text": [
      "[1, 2, 3, 'abc']\n"
     ]
    }
   ],
   "source": [
    "l = [1, 2, 3, 'abc'] # create a list\n",
    "print(l)"
   ]
  },
  {
   "cell_type": "code",
   "execution_count": 32,
   "id": "7c52c1b8",
   "metadata": {},
   "outputs": [
    {
     "name": "stdout",
     "output_type": "stream",
     "text": [
      "2\n",
      "[1, 2]\n",
      "[1, 3]\n"
     ]
    }
   ],
   "source": [
    "# access items in a list\n",
    "print(l[1])\n",
    "print(l[0:2])\n",
    "print(l[0:3:2])"
   ]
  },
  {
   "cell_type": "code",
   "execution_count": 33,
   "id": "8c2f1213",
   "metadata": {},
   "outputs": [
    {
     "name": "stdout",
     "output_type": "stream",
     "text": [
      "[1, 0, 3, 'abc']\n"
     ]
    }
   ],
   "source": [
    "# change items in a list\n",
    "l[1] = 0\n",
    "print(l)"
   ]
  },
  {
   "cell_type": "markdown",
   "id": "2c1dcef4",
   "metadata": {},
   "source": [
    "<h4>2.3.1 Lists Operators</h4>"
   ]
  },
  {
   "cell_type": "markdown",
   "id": "615500b1",
   "metadata": {},
   "source": [
    "Same as string operators."
   ]
  },
  {
   "cell_type": "code",
   "execution_count": 34,
   "id": "eedab88b",
   "metadata": {},
   "outputs": [],
   "source": [
    "a = [1, 2, 3]\n",
    "b = [4, 5]"
   ]
  },
  {
   "cell_type": "code",
   "execution_count": 35,
   "id": "63027be4",
   "metadata": {},
   "outputs": [
    {
     "name": "stdout",
     "output_type": "stream",
     "text": [
      "[1, 2, 3, 1, 2, 3]\n",
      "[1, 2, 3, 4, 5]\n"
     ]
    }
   ],
   "source": [
    "# * operator\n",
    "print(a*2)\n",
    "\n",
    "# + operator\n",
    "print(a+b)"
   ]
  },
  {
   "cell_type": "code",
   "execution_count": 37,
   "id": "45c3dc15",
   "metadata": {},
   "outputs": [
    {
     "name": "stdout",
     "output_type": "stream",
     "text": [
      "[2 4 6]\n"
     ]
    }
   ],
   "source": [
    "import numpy\n",
    "arr = numpy.array(a)\n",
    "print(arr*2)"
   ]
  },
  {
   "cell_type": "markdown",
   "id": "342893e1",
   "metadata": {},
   "source": [
    "<h4>2.3.2 Lists Methods</h4>"
   ]
  },
  {
   "cell_type": "code",
   "execution_count": null,
   "id": "3a638ec1",
   "metadata": {},
   "outputs": [],
   "source": [
    "animals = ['cat', 'dog', 'bird']\n",
    "\n",
    "# list.append(obj) : add one item to the end of a list\n",
    "animals.append('fish') # add fish\n",
    "print(animals)"
   ]
  },
  {
   "cell_type": "code",
   "execution_count": null,
   "id": "e6fc494d",
   "metadata": {},
   "outputs": [],
   "source": [
    "# list.remove(obj) : delete one one or more items from a list\n",
    "animals.remove('fish') # delete fish\n",
    "print(animals)"
   ]
  },
  {
   "cell_type": "code",
   "execution_count": null,
   "id": "9f386b06",
   "metadata": {},
   "outputs": [],
   "source": [
    "# list.insert(index, obj) : insert an item at the defined index\n",
    "animals.insert(1, 'fish') # insert fish at index 1\n",
    "print(animals)"
   ]
  },
  {
   "cell_type": "code",
   "execution_count": null,
   "id": "7c6e7781",
   "metadata": {
    "scrolled": true
   },
   "outputs": [],
   "source": [
    "# list.pop([index=-1]) : remove and returns the last item if the index is not provided\n",
    "print(animals.pop()) # removes the item at index -1 and returns the left items\n",
    "print(animals)"
   ]
  },
  {
   "cell_type": "code",
   "execution_count": null,
   "id": "0274209f",
   "metadata": {},
   "outputs": [],
   "source": [
    "# enumerate(sequence) : adds counter to an iterable and returns it.\n",
    "for index, element in enumerate(animals):\n",
    "    print(index, element)"
   ]
  },
  {
   "cell_type": "code",
   "execution_count": null,
   "id": "0d70c5c8",
   "metadata": {},
   "outputs": [],
   "source": [
    "# list sort\n",
    "list1 = [12, 45, 32, 55]\n",
    "\n",
    "# list.sort(cmp=None, key=None, reverse=False: sorts the elements of a given list in a specific ascend)\n",
    "list1.sort() # sort list1\n",
    "print(list1)"
   ]
  },
  {
   "cell_type": "code",
   "execution_count": null,
   "id": "7490c37a",
   "metadata": {},
   "outputs": [],
   "source": [
    "# list.reverse() : reverses the elements of the list.\n",
    "list1.reverse() # reverses list1\n",
    "print(list1)"
   ]
  },
  {
   "cell_type": "code",
   "execution_count": null,
   "id": "534b0c50",
   "metadata": {},
   "outputs": [],
   "source": [
    "# list Comprehension\n",
    "squares = [x*2 for x in animals] # define and create lists based on existing lists.\n",
    "print(squares)"
   ]
  },
  {
   "cell_type": "markdown",
   "id": "8edad386",
   "metadata": {},
   "source": [
    "<h4>2.3.3 Lists slicing and indexing</h4>"
   ]
  },
  {
   "cell_type": "markdown",
   "id": "c496a60f",
   "metadata": {},
   "source": [
    "List indexing returns the index of the specified element in the list."
   ]
  },
  {
   "cell_type": "code",
   "execution_count": null,
   "id": "1b0b1c02",
   "metadata": {},
   "outputs": [],
   "source": [
    "l = [[1, 3], [4, 5]]\n",
    "l[1][0]"
   ]
  },
  {
   "cell_type": "markdown",
   "id": "868ead0f",
   "metadata": {},
   "source": [
    "List slicing returns a slice object that can be used to slice strings, lists, tuple, etc. <br><br>\n",
    "list[start:end:step]:\n",
    "<li>start: where slicing starts; Default to None if not provided</li>\n",
    "<li>end: where slicing stops;</li>\n",
    "<li>step: determines the increment between each index for slicing; Default to None if not provided</li>"
   ]
  },
  {
   "cell_type": "code",
   "execution_count": null,
   "id": "7417b6f7",
   "metadata": {},
   "outputs": [],
   "source": [
    "l = [0, 1, 2, 3, 4, 5, (6, 7)]\n",
    "l[::2]"
   ]
  },
  {
   "cell_type": "code",
   "execution_count": null,
   "id": "a6ee1160",
   "metadata": {},
   "outputs": [],
   "source": [
    "l[1:4:2]"
   ]
  },
  {
   "cell_type": "markdown",
   "id": "37f55f1c",
   "metadata": {},
   "source": [
    "<h3>2.4 Tuples</h3>"
   ]
  },
  {
   "cell_type": "markdown",
   "id": "7c5b1354",
   "metadata": {},
   "source": [
    "Tuples are immutable sequences, typically used to store collections of heterogeneous data (such as the 2-tuples produced by the enumerate() built-in). Tuples are also used for case where an immutable sequence of homogeneous data is needed (such as allowing storage in a set or dict instance).<br><br>\n",
    "(obj1, obj2, ...)"
   ]
  },
  {
   "cell_type": "code",
   "execution_count": null,
   "id": "52036d47",
   "metadata": {},
   "outputs": [],
   "source": [
    "# create a tuple\n",
    "t = (1, [1, 2], \"python\")\n",
    "print(t)\n",
    "print(type(t))"
   ]
  },
  {
   "cell_type": "code",
   "execution_count": null,
   "id": "4351ad96",
   "metadata": {},
   "outputs": [],
   "source": [
    "# create a tuple with an item\n",
    "t1 = (5)\n",
    "t2 = (5,) # \", \" is needed\n",
    "print(\"t1\", type(t1))\n",
    "print(\"t2\", type(t2))"
   ]
  },
  {
   "cell_type": "code",
   "execution_count": null,
   "id": "7438d202",
   "metadata": {},
   "outputs": [],
   "source": [
    "# tuple indexing\n",
    "t = (1, 2, 3)\n",
    "print(t[-1])"
   ]
  },
  {
   "cell_type": "code",
   "execution_count": null,
   "id": "09a5f73d",
   "metadata": {},
   "outputs": [],
   "source": [
    "# tuple unchangeable\n",
    "t[1] = 0"
   ]
  },
  {
   "cell_type": "markdown",
   "id": "7ad0fc6b",
   "metadata": {},
   "source": [
    "<h3>2.5 Dictionaries</h3>"
   ]
  },
  {
   "cell_type": "markdown",
   "id": "ffdcfc36",
   "metadata": {},
   "source": [
    "A dictionary is an unordered collection of items. Each item of a dictionary has a key:value pair. The keys within one dictionary are unique. If you store data using a key that is already in use, the old value associated with that key is forgotten. Extracting a value using a non-existent key will cause error. <br><br>\n",
    "Dictionaries are unordered, changeable and does not allow duplicates. A pair of braces creates an empty dictionary: {} <br><br>\n",
    "{key:value}"
   ]
  },
  {
   "cell_type": "code",
   "execution_count": null,
   "id": "599e851d",
   "metadata": {},
   "outputs": [],
   "source": [
    "# create a dictionary in three different ways\n",
    "x1 = {'item':'pencil', 'quantity':4, 'color':'pink'}\n",
    "x2 = dict(item='pencil', quantity=4, color='pink')\n",
    "x3 = dict([(\"item\", \"pencil\"), (\"quantity\", 4), (\"color\", \"pink\")])\n",
    "\n",
    "print(x1)\n",
    "print(x2)\n",
    "print(x3)"
   ]
  },
  {
   "cell_type": "markdown",
   "id": "16583155",
   "metadata": {},
   "source": [
    "<h4>2.5.1 Access items in dictionaries</h4>"
   ]
  },
  {
   "cell_type": "code",
   "execution_count": null,
   "id": "987ce28a",
   "metadata": {},
   "outputs": [],
   "source": [
    "# extract values in dictionary\n",
    "print(x1['item'])"
   ]
  },
  {
   "cell_type": "code",
   "execution_count": null,
   "id": "2e204dd6",
   "metadata": {},
   "outputs": [],
   "source": [
    "print(x1[\"a\"]) # report an error when extract a value using a non-existent key."
   ]
  },
  {
   "cell_type": "code",
   "execution_count": null,
   "id": "7110820b",
   "metadata": {},
   "outputs": [],
   "source": [
    "# extract values by get(key, [\"str\"])\n",
    "print(x1.get(\"item\"))\n",
    "print(x1.get(\"a\")) # by get() method, returns none when extract a value using a non-existent key\n",
    "print(x1.get(\"a\", \"cannot find a\"))"
   ]
  },
  {
   "cell_type": "code",
   "execution_count": null,
   "id": "b59a46bd",
   "metadata": {},
   "outputs": [],
   "source": [
    "# extract all keys\n",
    "print(x1.keys())\n",
    "\n",
    "#extract all values\n",
    "print(x1.values())\n",
    "\n",
    "# extract all key:value pairs\n",
    "print(x1.items())"
   ]
  },
  {
   "cell_type": "code",
   "execution_count": null,
   "id": "2a204d4d",
   "metadata": {},
   "outputs": [],
   "source": [
    "# insert an item to a dictionary\n",
    "x1[\"x_key\"] = \"x_val\"\n",
    "print(x1)"
   ]
  },
  {
   "cell_type": "code",
   "execution_count": null,
   "id": "0b7fa321",
   "metadata": {},
   "outputs": [],
   "source": [
    "# change an item in a dictionary\n",
    "x1[\"x_key\"] = 0\n",
    "print(x1)"
   ]
  },
  {
   "cell_type": "markdown",
   "id": "66d71aa3",
   "metadata": {},
   "source": [
    "<h3>2.6 Sets</h3>"
   ]
  },
  {
   "cell_type": "markdown",
   "id": "9fcbfc89",
   "metadata": {},
   "source": [
    "A set is an unordered collection with no duplicate elements. <br><br>\n",
    "Set objects also support mathematical operations like union, intersection, difference, and symmetric difference. <br><br>\n",
    "Curly braces or the set() function can be used to create sets. Note: to create an empty set you have to use set(), not{}: the latter creates an empty dictionary<br><br>\n",
    "{obj1, obj2, ...}"
   ]
  },
  {
   "cell_type": "code",
   "execution_count": null,
   "id": "c3b12884",
   "metadata": {},
   "outputs": [],
   "source": [
    "sample_set = {'Prince', 'Techs'}\n",
    "sample_set2 = set(['Prince', 'Techs'])\n",
    "print(sample_set)\n",
    "print(sample_set2)\n",
    "print(type(sample_set))"
   ]
  },
  {
   "cell_type": "code",
   "execution_count": null,
   "id": "34e37cbd",
   "metadata": {},
   "outputs": [],
   "source": [
    "print('Data' in sample_set) # The in keyword is used to check if a value is present in a sequence\n",
    "print('Techs' in sample_set)"
   ]
  },
  {
   "cell_type": "code",
   "execution_count": null,
   "id": "02a14855",
   "metadata": {},
   "outputs": [],
   "source": [
    "# set.add(obj) : adds a given element to a set. If the element is already present, it doesn't add any element\n",
    "sample_set.add('Data')\n",
    "print(sample_set)\n",
    "print(len(sample_set))"
   ]
  },
  {
   "cell_type": "code",
   "execution_count": null,
   "id": "a04d0f52",
   "metadata": {},
   "outputs": [],
   "source": [
    "# set.remove(obj) : removes an element from a set\n",
    "sample_set.remove('Data') # removes Data\n",
    "print(sample_set)"
   ]
  },
  {
   "cell_type": "code",
   "execution_count": null,
   "id": "3b3b4273",
   "metadata": {},
   "outputs": [],
   "source": [
    "list2 = [1, 2, 1, 5, 3]\n",
    "set1 = set(list2)\n",
    "list2 = list(set1)\n",
    "print(list2)"
   ]
  },
  {
   "cell_type": "code",
   "execution_count": null,
   "id": "1ce7d27d",
   "metadata": {},
   "outputs": [],
   "source": [
    "sample_set = frozenset(sample_set) # unchangeable\n",
    "sample_set.add('cat')"
   ]
  },
  {
   "cell_type": "markdown",
   "id": "c9d8636b",
   "metadata": {},
   "source": [
    "<h3>2.7 Operations on data</h3>"
   ]
  },
  {
   "cell_type": "markdown",
   "id": "feb457e0",
   "metadata": {},
   "source": [
    "<h4>2.7.1 Deep copy and Shallow copy</h4>"
   ]
  },
  {
   "cell_type": "markdown",
   "id": "8c91512d",
   "metadata": {},
   "source": [
    "Assignment statements in Python do not copy objects, they create bindings between a target and an object. For collections that are mutable or contain mutable items, a copy is sometimes needed so one can change one copy without changing the other.<br><br>\n",
    "copy.copy(x)\n",
    "<li>Return a shallow copy of x.</li><br>\n",
    "copy.deepcopy(x[, memo])\n",
    "<li>Return a deep copy of x</li><br>\n",
    "The difference between shallow and deep copying is only relevant for compound objects (objects that contain other objects, like lists or class instaances):\n",
    "<li>A shallow copy constructs a new compound object and then (to the extend possible) inserts references into it to the objects found in the original</li>\n",
    "<li>A deep copy constructs a new compound object and then, recursively, inserts copies into it of the objects found in the original</li>"
   ]
  },
  {
   "cell_type": "code",
   "execution_count": null,
   "id": "7ea71198",
   "metadata": {},
   "outputs": [],
   "source": [
    "# data assignment\n",
    "a = [1, 2, 3, [4, 5]]\n",
    "b = a # assign a to b\n",
    "b[0] = 99\n",
    "print(a)"
   ]
  },
  {
   "cell_type": "code",
   "execution_count": null,
   "id": "2c2611c5",
   "metadata": {},
   "outputs": [],
   "source": [
    "# data assignment\n",
    "a = [1, 2, 3, [4, 5]]\n",
    "b = a.copy() # shallow copy\n",
    "b[0] = 99\n",
    "print(a)"
   ]
  },
  {
   "cell_type": "code",
   "execution_count": null,
   "id": "7042f54c",
   "metadata": {},
   "outputs": [],
   "source": [
    "b[3][0] = 99\n",
    "print(a)"
   ]
  },
  {
   "cell_type": "code",
   "execution_count": null,
   "id": "527e5b6b",
   "metadata": {},
   "outputs": [],
   "source": [
    "import copy\n",
    "# data assignment\n",
    "a = [1, 2, 3, [4, 5]]\n",
    "b = copy.deepcopy(a) # deep copy\n",
    "b[3][0] = 99\n",
    "print(a)"
   ]
  },
  {
   "cell_type": "markdown",
   "id": "79e3f8a6",
   "metadata": {},
   "source": [
    "<h4>2.7.2 Operators</h4>"
   ]
  },
  {
   "cell_type": "code",
   "execution_count": null,
   "id": "27b77939",
   "metadata": {},
   "outputs": [],
   "source": [
    "# assignment operators\n",
    "a = 5"
   ]
  },
  {
   "cell_type": "code",
   "execution_count": null,
   "id": "9db8ca34",
   "metadata": {},
   "outputs": [],
   "source": [
    "a += 1 # a = a + 1\n",
    "print(\"a += 1 : \", a)"
   ]
  },
  {
   "cell_type": "code",
   "execution_count": null,
   "id": "56d2ff32",
   "metadata": {},
   "outputs": [],
   "source": [
    "a -= 1 # a = a - 1\n",
    "print(\"a -= 1 : \", a)"
   ]
  },
  {
   "cell_type": "code",
   "execution_count": null,
   "id": "c0231a89",
   "metadata": {},
   "outputs": [],
   "source": [
    "a *= 2 # a = a * 2\n",
    "print(\"a *= 2 : \", a)"
   ]
  },
  {
   "cell_type": "code",
   "execution_count": null,
   "id": "6360bb07",
   "metadata": {},
   "outputs": [],
   "source": [
    "a /= 2 # a = a / 2\n",
    "print(\"a /= 2 : \", a)"
   ]
  },
  {
   "cell_type": "code",
   "execution_count": null,
   "id": "8dc0ee4c",
   "metadata": {},
   "outputs": [],
   "source": [
    "print( 10 // 5 )"
   ]
  },
  {
   "cell_type": "code",
   "execution_count": null,
   "id": "30f4f7a1",
   "metadata": {},
   "outputs": [],
   "source": [
    "# comparison operators\n",
    "print(1 >= 2)\n",
    "print(1 <= 2)\n",
    "print(1 != 2)\n",
    "print(1 == 2)"
   ]
  },
  {
   "cell_type": "code",
   "execution_count": null,
   "id": "e2ac3587",
   "metadata": {},
   "outputs": [],
   "source": [
    "# logical operators\n",
    "True and False"
   ]
  },
  {
   "cell_type": "code",
   "execution_count": null,
   "id": "ea4e6ea1",
   "metadata": {},
   "outputs": [],
   "source": [
    "True or False"
   ]
  },
  {
   "cell_type": "code",
   "execution_count": null,
   "id": "b30f2175",
   "metadata": {},
   "outputs": [],
   "source": [
    "not True"
   ]
  },
  {
   "cell_type": "code",
   "execution_count": null,
   "id": "d7d14aac",
   "metadata": {},
   "outputs": [],
   "source": [
    "# membership operators\n",
    "a = [1, 2, 3]\n",
    "5 in a"
   ]
  },
  {
   "cell_type": "code",
   "execution_count": null,
   "id": "206845f9",
   "metadata": {},
   "outputs": [],
   "source": [
    "4 not in a"
   ]
  },
  {
   "cell_type": "code",
   "execution_count": null,
   "id": "a4aa82e0",
   "metadata": {},
   "outputs": [],
   "source": [
    "# Identity operators\n",
    "a = [1, 2]\n",
    "b = a\n",
    "c = a.copy()\n",
    "\n",
    "print(a is b)"
   ]
  },
  {
   "cell_type": "code",
   "execution_count": null,
   "id": "fa770a92",
   "metadata": {},
   "outputs": [],
   "source": [
    "print(a is c)"
   ]
  },
  {
   "cell_type": "code",
   "execution_count": null,
   "id": "7e4164b6",
   "metadata": {},
   "outputs": [],
   "source": [
    "print(a == b == c)"
   ]
  },
  {
   "cell_type": "code",
   "execution_count": null,
   "id": "ea7d0134",
   "metadata": {},
   "outputs": [],
   "source": []
  }
 ],
 "metadata": {
  "kernelspec": {
   "display_name": "Python 3 (ipykernel)",
   "language": "python",
   "name": "python3"
  },
  "language_info": {
   "codemirror_mode": {
    "name": "ipython",
    "version": 3
   },
   "file_extension": ".py",
   "mimetype": "text/x-python",
   "name": "python",
   "nbconvert_exporter": "python",
   "pygments_lexer": "ipython3",
   "version": "3.11.9"
  }
 },
 "nbformat": 4,
 "nbformat_minor": 5
}
