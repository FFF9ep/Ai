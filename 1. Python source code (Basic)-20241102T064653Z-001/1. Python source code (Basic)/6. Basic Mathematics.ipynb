{
 "cells": [
  {
   "cell_type": "markdown",
   "id": "8abc083b",
   "metadata": {},
   "source": [
    "<h2>6. Basic Mathematics</h2>"
   ]
  },
  {
   "cell_type": "markdown",
   "id": "662b6e41",
   "metadata": {},
   "source": [
    "After completing this experiment, you will be able to:\n",
    "<li>Master how to use Python to implement basic operators.</li>\n",
    "<li>Master how to use Python to implement calculation related to linear algebra, probability, and statistics.</li>\n",
    "<li>Master the implementation of Python optimization.</li>"
   ]
  },
  {
   "cell_type": "markdown",
   "id": "5da06ee4",
   "metadata": {},
   "source": [
    "This document describes four experiments:\n",
    "<li>Experiment 1: Basic mathematics experiment</li>\n",
    "<li>Experiment 2: Linear algebra experiment</li>\n",
    "<li>Experiment 3: Probability and statistics experiment</li>\n",
    "<li>Experiment 4: Optimization experiment</li>"
   ]
  },
  {
   "cell_type": "code",
   "execution_count": 1,
   "id": "75757b6d",
   "metadata": {},
   "outputs": [],
   "source": [
    "import math\n",
    "import numpy as np"
   ]
  },
  {
   "cell_type": "code",
   "execution_count": 11,
   "id": "21eb2459",
   "metadata": {},
   "outputs": [
    {
     "data": {
      "text/plain": [
       "5"
      ]
     },
     "execution_count": 11,
     "metadata": {},
     "output_type": "execute_result"
    }
   ],
   "source": [
    "# the ceil(x) function obtains the minimum integer greater that or equal to x\n",
    "math.ceil(4.00001)"
   ]
  },
  {
   "cell_type": "code",
   "execution_count": 10,
   "id": "e075672a",
   "metadata": {},
   "outputs": [
    {
     "data": {
      "text/plain": [
       "3"
      ]
     },
     "execution_count": 10,
     "metadata": {},
     "output_type": "execute_result"
    }
   ],
   "source": [
    "# the floor(x) function obtains the maximum integer less than or equal to x. if x is an integer, the returned value is x.\n",
    "math.floor(3.95)"
   ]
  },
  {
   "cell_type": "code",
   "execution_count": 12,
   "id": "803cdbb2",
   "metadata": {},
   "outputs": [
    {
     "name": "stdout",
     "output_type": "stream",
     "text": [
      "3.141592653589793\n",
      "180.0\n",
      "45.0\n"
     ]
    }
   ],
   "source": [
    "print(math.pi)\n",
    "print(math.degrees(math.pi))\n",
    "print(math.degrees(math.pi)/4)"
   ]
  },
  {
   "cell_type": "code",
   "execution_count": 13,
   "id": "271da352",
   "metadata": {},
   "outputs": [
    {
     "data": {
      "text/plain": [
       "2.718281828459045"
      ]
     },
     "execution_count": 13,
     "metadata": {},
     "output_type": "execute_result"
    }
   ],
   "source": [
    "math.exp(1)"
   ]
  },
  {
   "cell_type": "code",
   "execution_count": 14,
   "id": "2bf9d857",
   "metadata": {},
   "outputs": [
    {
     "data": {
      "text/plain": [
       "0.003"
      ]
     },
     "execution_count": 14,
     "metadata": {},
     "output_type": "execute_result"
    }
   ],
   "source": [
    "math.fabs(-0.003) # absolute value of x"
   ]
  },
  {
   "cell_type": "code",
   "execution_count": 15,
   "id": "0181b1bc",
   "metadata": {},
   "outputs": [
    {
     "data": {
      "text/plain": [
       "120"
      ]
     },
     "execution_count": 15,
     "metadata": {},
     "output_type": "execute_result"
    }
   ],
   "source": [
    "math.factorial(5)"
   ]
  },
  {
   "cell_type": "code",
   "execution_count": 16,
   "id": "b08cb67c",
   "metadata": {},
   "outputs": [
    {
     "data": {
      "text/plain": [
       "10.0"
      ]
     },
     "execution_count": 16,
     "metadata": {},
     "output_type": "execute_result"
    }
   ],
   "source": [
    "math.fsum([1, 2, 3, 4])"
   ]
  },
  {
   "cell_type": "code",
   "execution_count": 17,
   "id": "65a2cbde",
   "metadata": {},
   "outputs": [
    {
     "data": {
      "text/plain": [
       "2.0"
      ]
     },
     "execution_count": 17,
     "metadata": {},
     "output_type": "execute_result"
    }
   ],
   "source": [
    "math.fmod(20, 3) # modulus"
   ]
  },
  {
   "cell_type": "code",
   "execution_count": 18,
   "id": "512fa9d4",
   "metadata": {},
   "outputs": [
    {
     "data": {
      "text/plain": [
       "2.302585092994046"
      ]
     },
     "execution_count": 18,
     "metadata": {},
     "output_type": "execute_result"
    }
   ],
   "source": [
    "# the log([x, base]) function returns the natural logarithm of x. log(x)/log(base)\n",
    "math.log(10)"
   ]
  },
  {
   "cell_type": "code",
   "execution_count": 19,
   "id": "35d271da",
   "metadata": {},
   "outputs": [
    {
     "data": {
      "text/plain": [
       "10.0"
      ]
     },
     "execution_count": 19,
     "metadata": {},
     "output_type": "execute_result"
    }
   ],
   "source": [
    "math.sqrt(100)"
   ]
  },
  {
   "cell_type": "code",
   "execution_count": 20,
   "id": "3411c36a",
   "metadata": {},
   "outputs": [
    {
     "data": {
      "text/plain": [
       "81.0"
      ]
     },
     "execution_count": 20,
     "metadata": {},
     "output_type": "execute_result"
    }
   ],
   "source": [
    "math.pow(3, 4)"
   ]
  },
  {
   "cell_type": "code",
   "execution_count": null,
   "id": "3680bdff",
   "metadata": {},
   "outputs": [],
   "source": []
  }
 ],
 "metadata": {
  "kernelspec": {
   "display_name": "Python 3 (ipykernel)",
   "language": "python",
   "name": "python3"
  },
  "language_info": {
   "codemirror_mode": {
    "name": "ipython",
    "version": 3
   },
   "file_extension": ".py",
   "mimetype": "text/x-python",
   "name": "python",
   "nbconvert_exporter": "python",
   "pygments_lexer": "ipython3",
   "version": "3.8.13"
  }
 },
 "nbformat": 4,
 "nbformat_minor": 5
}
