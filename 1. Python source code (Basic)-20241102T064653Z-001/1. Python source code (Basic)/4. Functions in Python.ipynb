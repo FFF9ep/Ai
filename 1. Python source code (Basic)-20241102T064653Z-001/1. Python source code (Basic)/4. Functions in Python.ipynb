{
 "cells": [
  {
   "cell_type": "markdown",
   "id": "add3016f",
   "metadata": {},
   "source": [
    "<h2>4. Functions in Python</h2>"
   ]
  },
  {
   "cell_type": "markdown",
   "id": "96db9b50",
   "metadata": {},
   "source": [
    "<h3>4.1 Functions</h3>"
   ]
  },
  {
   "cell_type": "markdown",
   "id": "87661aa0",
   "metadata": {},
   "source": [
    "In addition to built-in function, we can define our own functions by def statement and lambda statement."
   ]
  },
  {
   "cell_type": "code",
   "execution_count": 1,
   "id": "8b1fd792",
   "metadata": {},
   "outputs": [
    {
     "name": "stdout",
     "output_type": "stream",
     "text": [
      "hello\n",
      "world\n"
     ]
    }
   ],
   "source": [
    "def func():\n",
    "    print(\"hello\")\n",
    "    print(\"world\")\n",
    "\n",
    "func()"
   ]
  },
  {
   "cell_type": "markdown",
   "id": "ad2b8d87",
   "metadata": {},
   "source": [
    "There are multiple ways to pass data to a function:\n",
    "<li>positional arguments</li>\n",
    "<li>default arguments</li>\n",
    "<li>keyword arguments</li>\n",
    "<li>arbitrary positional arguments</li>\n",
    "<li>arbitrary keyword arguments</li>"
   ]
  },
  {
   "cell_type": "code",
   "execution_count": 2,
   "id": "e8d70f81",
   "metadata": {},
   "outputs": [
    {
     "name": "stdout",
     "output_type": "stream",
     "text": [
      "a: 128\n",
      "b: 2\n"
     ]
    }
   ],
   "source": [
    "def f(a=128, b=2):\n",
    "    print(\"a: %d\" %(a))\n",
    "    print(\"b: %d\" %(b))\n",
    "    \n",
    "# default arguments\n",
    "f()"
   ]
  },
  {
   "cell_type": "code",
   "execution_count": 3,
   "id": "8031de8e",
   "metadata": {},
   "outputs": [
    {
     "name": "stdout",
     "output_type": "stream",
     "text": [
      "a: 0\n",
      "b: 4\n"
     ]
    }
   ],
   "source": [
    "def f(a=128, b=2):\n",
    "    print(\"a: %d\" %(a))\n",
    "    print(\"b: %d\" %(b))\n",
    "    \n",
    "# positional arguments\n",
    "f(0, 4)"
   ]
  },
  {
   "cell_type": "code",
   "execution_count": 4,
   "id": "402a7bc1",
   "metadata": {},
   "outputs": [
    {
     "name": "stdout",
     "output_type": "stream",
     "text": [
      "a: 78\n",
      "b: 5\n"
     ]
    }
   ],
   "source": [
    "def f(a=128, b=2):\n",
    "    print(\"a: %d\" %(a))\n",
    "    print(\"b: %d\" %(b))\n",
    "    \n",
    "# keyword arguments\n",
    "f(b=5, a=78)"
   ]
  },
  {
   "cell_type": "code",
   "execution_count": 5,
   "id": "25b48bcd",
   "metadata": {},
   "outputs": [
    {
     "name": "stdout",
     "output_type": "stream",
     "text": [
      "a: 1\n",
      "b: 2\n",
      "args: (3, 4, 5, 6, 7, 8, 9, 10)\n"
     ]
    }
   ],
   "source": [
    "def f(a=128, b=2, *args):\n",
    "    print(\"a: %d\" %(a))\n",
    "    print(\"b: %d\" %(b))\n",
    "    print(\"args:\", args)\n",
    "    \n",
    "# arbitrary positional arguments\n",
    "f(1, 2, 3, 4, 5, 6, 7, 8, 9, 10)"
   ]
  },
  {
   "cell_type": "code",
   "execution_count": 6,
   "id": "9c1dfad2",
   "metadata": {},
   "outputs": [
    {
     "name": "stdout",
     "output_type": "stream",
     "text": [
      "cat is animal\n",
      "dog is animal\n",
      "cheese is food\n"
     ]
    }
   ],
   "source": [
    "def f(**kwargs):\n",
    "    for key, value in kwargs.items():\n",
    "        print (\"%s is %s\" %(key, value))\n",
    "    \n",
    "# arbitrary keyword arguments\n",
    "f(cat='animal', dog='animal', cheese='food')"
   ]
  },
  {
   "cell_type": "markdown",
   "id": "83f690ae",
   "metadata": {},
   "source": [
    "return value"
   ]
  },
  {
   "cell_type": "code",
   "execution_count": 7,
   "id": "a4cfc490",
   "metadata": {},
   "outputs": [
    {
     "name": "stdout",
     "output_type": "stream",
     "text": [
      "result : 5\n"
     ]
    }
   ],
   "source": [
    "# single return value\n",
    "def func(a, b):\n",
    "    return a+b\n",
    "\n",
    "res = func(2, 3)\n",
    "print(\"result :\", res)"
   ]
  },
  {
   "cell_type": "code",
   "execution_count": 8,
   "id": "cb2f9768",
   "metadata": {},
   "outputs": [
    {
     "name": "stdout",
     "output_type": "stream",
     "text": [
      "a : 3\n",
      "b : 2\n",
      "c : 1\n"
     ]
    }
   ],
   "source": [
    "# multiple return value\n",
    "def func():\n",
    "    return 1, 2, 3\n",
    "\n",
    "c, b, a = func()\n",
    "print(\"a :\", a)\n",
    "print(\"b :\", b)\n",
    "print(\"c :\", c)"
   ]
  },
  {
   "cell_type": "markdown",
   "id": "c08785bf",
   "metadata": {},
   "source": [
    "Define a function that takes a number as argument, and returns the fibonaci sequence. The length of the returned sequence is decided by the argument."
   ]
  },
  {
   "cell_type": "code",
   "execution_count": 9,
   "id": "5f213471",
   "metadata": {},
   "outputs": [
    {
     "data": {
      "text/plain": [
       "[0, 1, 1, 2, 3, 5, 8, 13, 21, 34, 55, 89, 144, 233, 377]"
      ]
     },
     "execution_count": 9,
     "metadata": {},
     "output_type": "execute_result"
    }
   ],
   "source": [
    "def fibs(num):\n",
    "    result = [0, 1]\n",
    "    for i in range(2, num):\n",
    "        a = result[i-1] + result[i-2]\n",
    "        result.append(a)\n",
    "    return result\n",
    "\n",
    "fibs(15)"
   ]
  },
  {
   "cell_type": "markdown",
   "id": "395da8e7",
   "metadata": {},
   "source": [
    "<h3>4.2 Anonymous Function</h3>"
   ]
  },
  {
   "cell_type": "markdown",
   "id": "c58fa771",
   "metadata": {},
   "source": [
    "Lambda expression are used to create anonymous functions. Lambda expression yields an unamed function object that behaves like:<br><br>\n",
    "def(parameters):<br>\n",
    "&emsp; return expression"
   ]
  },
  {
   "cell_type": "code",
   "execution_count": 10,
   "id": "68c42f03",
   "metadata": {},
   "outputs": [
    {
     "data": {
      "text/plain": [
       "3"
      ]
     },
     "execution_count": 10,
     "metadata": {},
     "output_type": "execute_result"
    }
   ],
   "source": [
    "'''\n",
    "def a(x, y):\n",
    "    return x+y\n",
    "res = a(1, 2)\n",
    "'''\n",
    "\n",
    "res = lambda x, y : x+y\n",
    "res(1, 2)"
   ]
  },
  {
   "cell_type": "markdown",
   "id": "a6facf5f",
   "metadata": {},
   "source": [
    "<h3>4.3 Higher-order function</h3>"
   ]
  },
  {
   "cell_type": "markdown",
   "id": "0205c2d7",
   "metadata": {},
   "source": [
    "A higher-order function is a function that takes function as arguments, or return a function."
   ]
  },
  {
   "cell_type": "code",
   "execution_count": 11,
   "id": "a02da439",
   "metadata": {},
   "outputs": [
    {
     "name": "stdout",
     "output_type": "stream",
     "text": [
      "(1, 'a')\n",
      "(2, 'b')\n",
      "(3, 'c')\n"
     ]
    }
   ],
   "source": [
    "# zip function\n",
    "a = [1, 2, 3]\n",
    "b = ['a', 'b', 'c']\n",
    "for x in zip(a, b):\n",
    "    print(x)"
   ]
  },
  {
   "cell_type": "code",
   "execution_count": 12,
   "id": "bb0eba63",
   "metadata": {},
   "outputs": [
    {
     "name": "stdout",
     "output_type": "stream",
     "text": [
      "1 4 9\n"
     ]
    }
   ],
   "source": [
    "# map\n",
    "print(*map(lambda x : x*x, [1 , 2, 3]))"
   ]
  },
  {
   "cell_type": "code",
   "execution_count": 13,
   "id": "ca373f8a",
   "metadata": {},
   "outputs": [
    {
     "name": "stdout",
     "output_type": "stream",
     "text": [
      "3 5\n"
     ]
    }
   ],
   "source": [
    "# filter\n",
    "print(*filter(lambda x : x%2==1, [3, 4, 5]))"
   ]
  },
  {
   "cell_type": "code",
   "execution_count": 14,
   "id": "4c5bc93f",
   "metadata": {},
   "outputs": [
    {
     "data": {
      "text/plain": [
       "[('a', 5), ('b', 6), ('d', 7), ('c', 8)]"
      ]
     },
     "execution_count": 14,
     "metadata": {},
     "output_type": "execute_result"
    }
   ],
   "source": [
    "# sorted\n",
    "sorted([('b', 6), ('a', 5), ('c', 8), ('d', 7)], key=lambda x : x[1])"
   ]
  },
  {
   "cell_type": "code",
   "execution_count": null,
   "id": "2e5ccd8f",
   "metadata": {},
   "outputs": [],
   "source": []
  }
 ],
 "metadata": {
  "kernelspec": {
   "display_name": "Python 3 (ipykernel)",
   "language": "python",
   "name": "python3"
  },
  "language_info": {
   "codemirror_mode": {
    "name": "ipython",
    "version": 3
   },
   "file_extension": ".py",
   "mimetype": "text/x-python",
   "name": "python",
   "nbconvert_exporter": "python",
   "pygments_lexer": "ipython3",
   "version": "3.8.19"
  }
 },
 "nbformat": 4,
 "nbformat_minor": 5
}
