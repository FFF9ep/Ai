{
 "cells": [
  {
   "cell_type": "markdown",
   "id": "bded1cac",
   "metadata": {},
   "source": [
    "<h2>7. Linear Algebra</h2>"
   ]
  },
  {
   "cell_type": "markdown",
   "id": "b21507d8",
   "metadata": {},
   "source": [
    "<b>Linear algebra</b> is a discipline widely used in various engineering field. The concepts and conclusions of linear algebra can greatly simplify the derivations and expressions of data mining formulas. Linear algebra can simplify complex problems so that we can perform efficient mathematical operations. Linear algebra is a mathematical tool. It is not only provides the technology for array operations, but also provides data structures such as vectirs and matrices to store numbers and rules for addition, subtraction, multiplication, and division."
   ]
  },
  {
   "cell_type": "markdown",
   "id": "cd7e32e1",
   "metadata": {},
   "source": [
    "<b>Numpy</b> is a numerical module based on Python. It has powerful functions and advantages in processing matrix data. As linear algebra meanly processes matrices, this section is mainly based of Numpy. The mathematical science library <b>SciPy</b> is also used to ilustrate eqution solution in this section."
   ]
  },
  {
   "cell_type": "code",
   "execution_count": 2,
   "id": "f2ba1250",
   "metadata": {},
   "outputs": [],
   "source": [
    "# import libraries\n",
    "import numpy as np\n",
    "import scipy as sp"
   ]
  },
  {
   "cell_type": "markdown",
   "id": "2ba2b9c1",
   "metadata": {},
   "source": [
    "<h3>7.1 Reshape Operation</h3>"
   ]
  },
  {
   "cell_type": "markdown",
   "id": "475109d6",
   "metadata": {},
   "source": [
    "The <b>reshape operation</b> is used to change the dimension number of a tensor and size of each dimension. For example, a 10x10 image is directly saved as a sequence containing 100 elements. After inputting the image, it can be transformed from 10x10 to 1x100 through the reshape operation."
   ]
  },
  {
   "cell_type": "code",
   "execution_count": 3,
   "id": "a93444ba",
   "metadata": {},
   "outputs": [
    {
     "name": "stdout",
     "output_type": "stream",
     "text": [
      "[ 0  1  2  3  4  5  6  7  8  9 10 11]\n"
     ]
    }
   ],
   "source": [
    "# Generate a vector that contains integer from 0 to 11\n",
    "x = np.arange(12)\n",
    "print(x)"
   ]
  },
  {
   "cell_type": "code",
   "execution_count": 4,
   "id": "904f25e2",
   "metadata": {},
   "outputs": [
    {
     "data": {
      "text/plain": [
       "(12,)"
      ]
     },
     "execution_count": 4,
     "metadata": {},
     "output_type": "execute_result"
    }
   ],
   "source": [
    "# view the array size\n",
    "x.shape"
   ]
  },
  {
   "cell_type": "code",
   "execution_count": 5,
   "id": "2390c4f2",
   "metadata": {},
   "outputs": [
    {
     "name": "stdout",
     "output_type": "stream",
     "text": [
      "[[ 0  1  2  3  4  5  6  7  8  9 10 11]]\n"
     ]
    }
   ],
   "source": [
    "# convert x into a two-dimensiona matrix, where the first dimension of the matrix is 1\n",
    "x = x.reshape(1, 12)\n",
    "print(x)"
   ]
  },
  {
   "cell_type": "code",
   "execution_count": 6,
   "id": "f304fd46",
   "metadata": {},
   "outputs": [
    {
     "data": {
      "text/plain": [
       "(1, 12)"
      ]
     },
     "execution_count": 6,
     "metadata": {},
     "output_type": "execute_result"
    }
   ],
   "source": [
    "# view the array size\n",
    "x.shape"
   ]
  },
  {
   "cell_type": "code",
   "execution_count": 7,
   "id": "1be21408",
   "metadata": {},
   "outputs": [
    {
     "name": "stdout",
     "output_type": "stream",
     "text": [
      "[[ 0  1  2  3]\n",
      " [ 4  5  6  7]\n",
      " [ 8  9 10 11]]\n"
     ]
    }
   ],
   "source": [
    "# convert x to a 3x4 matrix\n",
    "x = x.reshape(3,4)\n",
    "print(x)"
   ]
  },
  {
   "cell_type": "markdown",
   "id": "5875ae96",
   "metadata": {},
   "source": [
    "<h3>7.2 Transpose Implementation</h3>"
   ]
  },
  {
   "cell_type": "markdown",
   "id": "e0c0f2aa",
   "metadata": {},
   "source": [
    "The <b>transpose</b> of vectors and matrices is to switch the row and column indices. For the transpose of tensors of three dimensions and above, you need to specify the transpose dimension"
   ]
  },
  {
   "cell_type": "code",
   "execution_count": 8,
   "id": "0c3bb59d",
   "metadata": {},
   "outputs": [
    {
     "name": "stdout",
     "output_type": "stream",
     "text": [
      "[[ 0  1  2  3]\n",
      " [ 4  5  6  7]\n",
      " [ 8  9 10 11]]\n"
     ]
    }
   ],
   "source": [
    "# generate a 3x4 matrix\n",
    "A = np.arange(12).reshape(3, 4)\n",
    "print(A)"
   ]
  },
  {
   "cell_type": "code",
   "execution_count": 9,
   "id": "f198c9be",
   "metadata": {},
   "outputs": [
    {
     "data": {
      "text/plain": [
       "array([[ 0,  4,  8],\n",
       "       [ 1,  5,  9],\n",
       "       [ 2,  6, 10],\n",
       "       [ 3,  7, 11]])"
      ]
     },
     "execution_count": 9,
     "metadata": {},
     "output_type": "execute_result"
    }
   ],
   "source": [
    "# the tranpose of matrix A\n",
    "A.T"
   ]
  },
  {
   "cell_type": "markdown",
   "id": "a4cbe77d",
   "metadata": {},
   "source": [
    "<h3>7.3 Matrix Multiplication Implementation</h3>"
   ]
  },
  {
   "cell_type": "markdown",
   "id": "515633ee",
   "metadata": {},
   "source": [
    "To <b>multiply</b> the matrix A and matrix B, the <b>column</b> quantity of A must be <b>equal</b> to the <b>row</b> quantity of B"
   ]
  },
  {
   "cell_type": "code",
   "execution_count": 10,
   "id": "48cb48eb",
   "metadata": {},
   "outputs": [
    {
     "name": "stdout",
     "output_type": "stream",
     "text": [
      "[[0 1]\n",
      " [2 3]\n",
      " [4 5]]\n",
      "[[0 1 2]\n",
      " [3 4 5]]\n"
     ]
    }
   ],
   "source": [
    "A = np.arange(6).reshape(3, 2)\n",
    "B = np.arange(6).reshape(2, 3)\n",
    "print(A)\n",
    "print(B)"
   ]
  },
  {
   "cell_type": "code",
   "execution_count": 11,
   "id": "b0a2c7ee",
   "metadata": {},
   "outputs": [
    {
     "data": {
      "text/plain": [
       "array([[ 3,  4,  5],\n",
       "       [ 9, 14, 19],\n",
       "       [15, 24, 33]])"
      ]
     },
     "execution_count": 11,
     "metadata": {},
     "output_type": "execute_result"
    }
   ],
   "source": [
    "# multiplcation process\n",
    "np.matmul(A, B)"
   ]
  },
  {
   "cell_type": "markdown",
   "id": "53a52d7e",
   "metadata": {},
   "source": [
    "<h3>7.4 Matrix Operations</h3>"
   ]
  },
  {
   "cell_type": "markdown",
   "id": "7fdfaeea",
   "metadata": {},
   "source": [
    "<b>Element operations</b> are operations on matrices of the same shape. For example, element operations indicate the addition, subtraction, division, and multiplication operations on elements with the same position in two matrices"
   ]
  },
  {
   "cell_type": "code",
   "execution_count": 12,
   "id": "391d90f6",
   "metadata": {},
   "outputs": [
    {
     "name": "stdout",
     "output_type": "stream",
     "text": [
      "[[0 1]\n",
      " [2 3]\n",
      " [4 5]]\n"
     ]
    }
   ],
   "source": [
    "# create matrix A\n",
    "A = np.arange(6).reshape(3, 2)\n",
    "print(A)"
   ]
  },
  {
   "cell_type": "code",
   "execution_count": 13,
   "id": "7934691b",
   "metadata": {},
   "outputs": [
    {
     "name": "stdout",
     "output_type": "stream",
     "text": [
      "[[ 0  1]\n",
      " [ 4  9]\n",
      " [16 25]]\n"
     ]
    }
   ],
   "source": [
    "# matrix multiplication\n",
    "print(A * A)"
   ]
  },
  {
   "cell_type": "code",
   "execution_count": 14,
   "id": "19769cdf",
   "metadata": {},
   "outputs": [
    {
     "name": "stdout",
     "output_type": "stream",
     "text": [
      "[[ 0  2]\n",
      " [ 4  6]\n",
      " [ 8 10]]\n"
     ]
    }
   ],
   "source": [
    "# matrix addition\n",
    "print(A + A)"
   ]
  },
  {
   "cell_type": "markdown",
   "id": "302ad6d9",
   "metadata": {},
   "source": [
    "<h3>7.5 Inverse Matrix Implementation</h3>"
   ]
  },
  {
   "cell_type": "markdown",
   "id": "e8a47fd0",
   "metadata": {},
   "source": [
    "<b>Inverse matrix implementation</b> is applicable only to square matrices"
   ]
  },
  {
   "cell_type": "code",
   "execution_count": 15,
   "id": "e1394c9c",
   "metadata": {},
   "outputs": [
    {
     "name": "stdout",
     "output_type": "stream",
     "text": [
      "[[0 1]\n",
      " [2 3]]\n"
     ]
    }
   ],
   "source": [
    "# create matrix A\n",
    "A = np.arange(4).reshape(2, 2)\n",
    "print(A)"
   ]
  },
  {
   "cell_type": "code",
   "execution_count": 16,
   "id": "127dd241",
   "metadata": {},
   "outputs": [
    {
     "data": {
      "text/plain": [
       "array([[-1.5,  0.5],\n",
       "       [ 1. ,  0. ]])"
      ]
     },
     "execution_count": 16,
     "metadata": {},
     "output_type": "execute_result"
    }
   ],
   "source": [
    "# inverse matrix\n",
    "np.linalg.inv(A)"
   ]
  },
  {
   "cell_type": "markdown",
   "id": "24de017f",
   "metadata": {},
   "source": [
    "<h3>7.6 Eigenvalue and Eigenvector</h3>"
   ]
  },
  {
   "cell_type": "markdown",
   "id": "008be798",
   "metadata": {},
   "source": [
    "This section describes how to obtain te matrix eigenvalues and eigenvectors and implement visualization"
   ]
  },
  {
   "cell_type": "code",
   "execution_count": 17,
   "id": "ce38c344",
   "metadata": {},
   "outputs": [],
   "source": [
    "# import libraries\n",
    "from scipy.linalg import eig\n",
    "import numpy as np\n",
    "import matplotlib.pyplot as plt"
   ]
  },
  {
   "cell_type": "code",
   "execution_count": 18,
   "id": "98ea4547",
   "metadata": {},
   "outputs": [],
   "source": [
    "# generate a 2x2 matrix\n",
    "A = [[1, 2],\n",
    "     [2, 1]]"
   ]
  },
  {
   "cell_type": "code",
   "execution_count": 19,
   "id": "4dd36ccc",
   "metadata": {},
   "outputs": [
    {
     "name": "stdout",
     "output_type": "stream",
     "text": [
      "eigenvalue : [ 3.+0.j -1.+0.j]\n",
      "eigenvector : (array([0.70710678, 0.70710678]), array([-0.70710678,  0.70710678]))\n"
     ]
    }
   ],
   "source": [
    "# calculate the eigenvalue and eigenvector of A\n",
    "evals, evecs = eig(A)\n",
    "evecs = evecs[:, 0], evecs[:, 1]\n",
    "\n",
    "print(\"eigenvalue :\", evals)\n",
    "print(\"eigenvector :\", evecs)"
   ]
  },
  {
   "cell_type": "code",
   "execution_count": 20,
   "id": "68852da9",
   "metadata": {},
   "outputs": [
    {
     "data": {
      "text/plain": [
       "<function matplotlib.pyplot.show(close=None, block=None)>"
      ]
     },
     "execution_count": 20,
     "metadata": {},
     "output_type": "execute_result"
    },
    {
     "data": {
      "image/png": "[encoded data removed]",
      "text/plain": [
       "<Figure size 432x288 with 1 Axes>"
      ]
     },
     "metadata": {
      "needs_background": "light"
     },
     "output_type": "display_data"
    }
   ],
   "source": [
    "# the plt.subplots() function returns a figure instance named fig and an AxesSubplot insance named ax\n",
    "# the fig parameter indicates the entire figure, and ax indicates the coordinate axis. Plotting:\n",
    "fig, ax = plt.subplots()\n",
    "\n",
    "# make the coordinate axis pass the origin\n",
    "for spine in ['left', 'bottom']:\n",
    "    ax.spines[spine].set_position('zero')\n",
    "\n",
    "# draw a grid\n",
    "ax.grid(alpha=0.4)\n",
    "\n",
    "# set the coordinate axis ranges\n",
    "xmin, xmax = -3, 3\n",
    "ymin, ymax = -3, 3\n",
    "ax.set(xlim = (xmin, xmax), ylim = (ymin, ymax))\n",
    "\n",
    "# draw an eigenvector. Annotation is to use an arrow that points to the content to be explained and add a description\n",
    "# in the following code, s indicates the input, xy indicates the arrow direction, xytext indicates the text location\n",
    "for v in evecs:\n",
    "    ax.annotate(text=\"\", xy=v, xytext=(0, 0), \n",
    "                arrowprops=dict(facecolor='blue', \n",
    "                                shrink=0, \n",
    "                                alpha=0.6, \n",
    "                                width=0.5))\n",
    "\n",
    "# draw the eigenspace\n",
    "x = np.linspace(xmin, xmax, 3) # return evenly spaced numbers over a specified interval\n",
    "for v in evecs:\n",
    "    a = v[1] / v[0] # unit vector in the eigenvector direction\n",
    "    ax.plot(x, a * x, 'r-', lw = 0.4) # the lw parameter indicates the line tickness\n",
    "\n",
    "# show the plot\n",
    "plt.show"
   ]
  },
  {
   "cell_type": "markdown",
   "id": "5d42bd4a",
   "metadata": {},
   "source": [
    "<h3>7.7 Determinant</h3>"
   ]
  },
  {
   "cell_type": "markdown",
   "id": "fb65cd82",
   "metadata": {},
   "source": [
    "This section describes how to obtain the determinant of a matrix"
   ]
  },
  {
   "cell_type": "code",
   "execution_count": 21,
   "id": "d864fff7",
   "metadata": {},
   "outputs": [
    {
     "name": "stdout",
     "output_type": "stream",
     "text": [
      "-9.51619735392994e-16\n"
     ]
    }
   ],
   "source": [
    "# generate a square matrix\n",
    "E = [[1, 2, 3],\n",
    "     [4, 5, 6],\n",
    "     [7, 8, 9]]\n",
    "\n",
    "# calculate the determinant\n",
    "print(np.linalg.det(E))"
   ]
  },
  {
   "cell_type": "code",
   "execution_count": null,
   "id": "a900db42",
   "metadata": {},
   "outputs": [],
   "source": []
  }
 ],
 "metadata": {
  "kernelspec": {
   "display_name": "Python 3 (ipykernel)",
   "language": "python",
   "name": "python3"
  },
  "language_info": {
   "codemirror_mode": {
    "name": "ipython",
    "version": 3
   },
   "file_extension": ".py",
   "mimetype": "text/x-python",
   "name": "python",
   "nbconvert_exporter": "python",
   "pygments_lexer": "ipython3",
   "version": "3.8.13"
  }
 },
 "nbformat": 4,
 "nbformat_minor": 5
}
