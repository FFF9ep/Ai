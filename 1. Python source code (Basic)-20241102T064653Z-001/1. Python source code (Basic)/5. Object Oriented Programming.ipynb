{
 "cells": [
  {
   "cell_type": "markdown",
   "id": "cd6db9ce",
   "metadata": {},
   "source": [
    "<h2>5. Object Oriented Programming</h2>"
   ]
  },
  {
   "cell_type": "markdown",
   "id": "95af3a49",
   "metadata": {},
   "source": [
    "Object-oriented programming is a programming paradigm based on the concept of \"objects\", which can contain data (variables) and methods (functions)"
   ]
  },
  {
   "cell_type": "markdown",
   "id": "c2501261",
   "metadata": {},
   "source": [
    "Advantages of Object-oriented programming:\n",
    "<li>Code reusability</li>\n",
    "<li>Easier to maintain</li>\n",
    "<li>Better productivity</li>\n",
    "<li>Easier to extend</li>"
   ]
  },
  {
   "cell_type": "markdown",
   "id": "487f43e3",
   "metadata": {},
   "source": [
    "<h3>5.1 Class</h3>"
   ]
  },
  {
   "cell_type": "markdown",
   "id": "fd2316fa",
   "metadata": {},
   "source": [
    "Python classes provide all the standard features of Object-oriented Programming:\n",
    "<li>Encapsulation</li>\n",
    "<li>Inheritance</li>\n",
    "<li>Abstraction</li>\n",
    "<li>Polymorphism</li>"
   ]
  },
  {
   "cell_type": "code",
   "execution_count": 7,
   "id": "031990ac",
   "metadata": {},
   "outputs": [],
   "source": [
    "# create a class that simulates a dog\n",
    "class Dog():\n",
    "    def __init__ (self, name, age):\n",
    "        self.name = name\n",
    "        self.age = age\n",
    "    \n",
    "    def sit(self):\n",
    "        print(self.name.title() + \" is sitting now\")\n",
    "    \n",
    "    def run(self):\n",
    "        print(self.name.title() + \" is running now\")"
   ]
  },
  {
   "cell_type": "code",
   "execution_count": 8,
   "id": "4bcb85c9",
   "metadata": {},
   "outputs": [
    {
     "name": "stdout",
     "output_type": "stream",
     "text": [
      "Husky is sitting now\n",
      "Husky is running now\n"
     ]
    }
   ],
   "source": [
    "# instantiation\n",
    "my_dog = Dog(\"Husky\", 3)\n",
    "my_dog.sit()\n",
    "my_dog.run()"
   ]
  },
  {
   "cell_type": "markdown",
   "id": "e798934a",
   "metadata": {},
   "source": [
    "We can also add new data (attribute) to an object"
   ]
  },
  {
   "cell_type": "code",
   "execution_count": 3,
   "id": "4887e689",
   "metadata": {},
   "outputs": [
    {
     "name": "stdout",
     "output_type": "stream",
     "text": [
      "My dog food is meat\n"
     ]
    }
   ],
   "source": [
    "my_dog.food = 'meat'\n",
    "print(\"My dog food is\", my_dog.food)"
   ]
  },
  {
   "cell_type": "code",
   "execution_count": 4,
   "id": "1447d619",
   "metadata": {},
   "outputs": [
    {
     "ename": "AttributeError",
     "evalue": "'Dog' object has no attribute 'food'",
     "output_type": "error",
     "traceback": [
      "\u001b[1;31m---------------------------------------------------------------------------\u001b[0m",
      "\u001b[1;31mAttributeError\u001b[0m                            Traceback (most recent call last)",
      "Input \u001b[1;32mIn [4]\u001b[0m, in \u001b[0;36m<cell line: 2>\u001b[1;34m()\u001b[0m\n\u001b[0;32m      1\u001b[0m my_other_dog \u001b[38;5;241m=\u001b[39m Dog(\u001b[38;5;124m\"\u001b[39m\u001b[38;5;124mHeli\u001b[39m\u001b[38;5;124m\"\u001b[39m, \u001b[38;5;241m2\u001b[39m)\n\u001b[1;32m----> 2\u001b[0m \u001b[38;5;28mprint\u001b[39m(\u001b[43mmy_other_dog\u001b[49m\u001b[38;5;241;43m.\u001b[39;49m\u001b[43mfood\u001b[49m)\n",
      "\u001b[1;31mAttributeError\u001b[0m: 'Dog' object has no attribute 'food'"
     ]
    }
   ],
   "source": [
    "my_other_dog = Dog(\"Heli\", 2)\n",
    "print(my_other_dog.food) # an error will be occured because class Dog doesn't have attribute 'food'"
   ]
  },
  {
   "cell_type": "markdown",
   "id": "6731e7be",
   "metadata": {},
   "source": [
    "we can also re-define a class"
   ]
  },
  {
   "cell_type": "code",
   "execution_count": 9,
   "id": "3ba9a37a",
   "metadata": {},
   "outputs": [
    {
     "name": "stdout",
     "output_type": "stream",
     "text": [
      "Goodog has been created\n"
     ]
    }
   ],
   "source": [
    "class Dog(object): # this class will override the old one\n",
    "    def __init__(self, name):\n",
    "        self.name = name\n",
    "        print(\"%s has been created\" %(self.name))\n",
    "\n",
    "my_dog = Dog(\"Goodog\")"
   ]
  },
  {
   "cell_type": "markdown",
   "id": "91897f10",
   "metadata": {},
   "source": [
    "We can implement the str method to customized the output when a class is printed"
   ]
  },
  {
   "cell_type": "code",
   "execution_count": 11,
   "id": "45a563a7",
   "metadata": {},
   "outputs": [
    {
     "name": "stdout",
     "output_type": "stream",
     "text": [
      "dog name: Goodog\n"
     ]
    }
   ],
   "source": [
    "class Dog(object):\n",
    "    def __init__(self, name):\n",
    "        self.name = name\n",
    "    def __str__(self):\n",
    "        return \"dog name: \" + self.name\n",
    "\n",
    "my_dog = Dog(\"Goodog\")\n",
    "print(my_dog)"
   ]
  },
  {
   "cell_type": "markdown",
   "id": "bf962f00",
   "metadata": {},
   "source": [
    "<h3>5.2 Encapsulation</h3>"
   ]
  },
  {
   "cell_type": "markdown",
   "id": "e3e4dda0",
   "metadata": {},
   "source": [
    "Encapsulation can be used to hide the values of data inside an object, preventing unauthorized parties from direct accessing them"
   ]
  },
  {
   "cell_type": "code",
   "execution_count": 1,
   "id": "1726a580",
   "metadata": {},
   "outputs": [],
   "source": [
    "class SimpleCounter:\n",
    "    __secretCount = 10 # private variable\n",
    "    publicCount = 0   # public variable\n",
    "    def count(self):\n",
    "        return self.__secretCount\n",
    "\n",
    "counter = SimpleCounter()"
   ]
  },
  {
   "cell_type": "code",
   "execution_count": 2,
   "id": "311b86b9",
   "metadata": {},
   "outputs": [
    {
     "name": "stdout",
     "output_type": "stream",
     "text": [
      "0\n"
     ]
    }
   ],
   "source": [
    "# public variable can be accessed outside the object\n",
    "print(counter.publicCount)"
   ]
  },
  {
   "cell_type": "code",
   "execution_count": 3,
   "id": "3291e61e",
   "metadata": {},
   "outputs": [
    {
     "ename": "AttributeError",
     "evalue": "'SimpleCounter' object has no attribute '__secretCount'",
     "output_type": "error",
     "traceback": [
      "\u001b[1;31m---------------------------------------------------------------------------\u001b[0m",
      "\u001b[1;31mAttributeError\u001b[0m                            Traceback (most recent call last)",
      "Input \u001b[1;32mIn [3]\u001b[0m, in \u001b[0;36m<cell line: 2>\u001b[1;34m()\u001b[0m\n\u001b[0;32m      1\u001b[0m \u001b[38;5;66;03m# private variable can not be accessed outside the object\u001b[39;00m\n\u001b[1;32m----> 2\u001b[0m \u001b[38;5;28mprint\u001b[39m(\u001b[43mcounter\u001b[49m\u001b[38;5;241;43m.\u001b[39;49m\u001b[43m__secretCount\u001b[49m)\n",
      "\u001b[1;31mAttributeError\u001b[0m: 'SimpleCounter' object has no attribute '__secretCount'"
     ]
    }
   ],
   "source": [
    "# private variable can not be accessed outside the object\n",
    "print(counter.__secretCount)"
   ]
  },
  {
   "cell_type": "code",
   "execution_count": 4,
   "id": "4b3c9d3a",
   "metadata": {},
   "outputs": [
    {
     "name": "stdout",
     "output_type": "stream",
     "text": [
      "10\n"
     ]
    }
   ],
   "source": [
    "# to access the private variable, we need to pass it to public method\n",
    "print(counter.count())"
   ]
  },
  {
   "cell_type": "markdown",
   "id": "93d7718e",
   "metadata": {},
   "source": [
    "<h3>5.3 Inheritance</h3>"
   ]
  },
  {
   "cell_type": "markdown",
   "id": "6a7e5a4b",
   "metadata": {},
   "source": [
    "Inheritance allows us to define a class that inherits all the methods and data from another class"
   ]
  },
  {
   "cell_type": "code",
   "execution_count": 5,
   "id": "b99fadb9",
   "metadata": {},
   "outputs": [
    {
     "name": "stdout",
     "output_type": "stream",
     "text": [
      "instantiating child\n"
     ]
    }
   ],
   "source": [
    "class Parent: # parent class\n",
    "    parentAttr = 100\n",
    "    def __init__(self):\n",
    "        print(\"instantiating parent\")\n",
    "    def parentMethod(self):\n",
    "        print('parent method')\n",
    "    def setAttr(self, attr):\n",
    "        Parent.parentAttr = attr\n",
    "    def getAttr(self):\n",
    "        print(\"parent attribute :\", Parent.parentAttr)\n",
    "\n",
    "class Child(Parent): # child class\n",
    "    def __init__(self):\n",
    "        print(\"instantiating child\")\n",
    "    def childMethod(self):\n",
    "        print('child method')\n",
    "    def getAttr(self):\n",
    "        super().getAttr()\n",
    "        print(\"child says hello!\")\n",
    "\n",
    "c = Child()          # instantiate child"
   ]
  },
  {
   "cell_type": "code",
   "execution_count": 6,
   "id": "8129c32d",
   "metadata": {},
   "outputs": [
    {
     "name": "stdout",
     "output_type": "stream",
     "text": [
      "child method\n"
     ]
    }
   ],
   "source": [
    "c.childMethod()      # call child method"
   ]
  },
  {
   "cell_type": "code",
   "execution_count": 7,
   "id": "69491298",
   "metadata": {},
   "outputs": [
    {
     "name": "stdout",
     "output_type": "stream",
     "text": [
      "parent method\n"
     ]
    }
   ],
   "source": [
    "c.parentMethod()     # call parent method"
   ]
  },
  {
   "cell_type": "code",
   "execution_count": 8,
   "id": "297ac23d",
   "metadata": {},
   "outputs": [],
   "source": [
    "c.setAttr(200)       # set attribute (parent method)"
   ]
  },
  {
   "cell_type": "code",
   "execution_count": 9,
   "id": "88f59514",
   "metadata": {},
   "outputs": [
    {
     "name": "stdout",
     "output_type": "stream",
     "text": [
      "parent attribute : 200\n",
      "child says hello!\n"
     ]
    }
   ],
   "source": [
    "c.getAttr()          # call attribute (parent method)"
   ]
  },
  {
   "cell_type": "markdown",
   "id": "05c0f281",
   "metadata": {},
   "source": [
    "<h3>5.4 Abstraction</h3>"
   ]
  },
  {
   "cell_type": "markdown",
   "id": "2e6419e9",
   "metadata": {},
   "source": [
    "An abstract class is a blueprint for other classes. We can create a set of methods that is required to be created within any child classes built from the abstract class.<br><br>\n",
    "The main goal of abstraction is to handle complexity by hiding details from the user.<br><br>\n",
    "The ABC module provides the infrastructure for defining abstract base classes (ABCs) in Python."
   ]
  },
  {
   "cell_type": "code",
   "execution_count": 11,
   "id": "96194ce6",
   "metadata": {},
   "outputs": [
    {
     "name": "stdout",
     "output_type": "stream",
     "text": [
      "miew~~\n",
      "True\n",
      "False\n"
     ]
    }
   ],
   "source": [
    "from abc import ABC, abstractmethod\n",
    "\n",
    "class Animal(ABC):\n",
    "    @abstractmethod # this is a decorator. you can learn much more about it in https://builtin.com/software-engineering-perspectives/python-symbol\n",
    "    def eats_grass(self):\n",
    "        pass\n",
    "    def is_animal(self):\n",
    "        return True\n",
    "\n",
    "class Cat(Animal):\n",
    "    def __init__(self):\n",
    "        print(\"miew~~\")\n",
    "    # overriding abstract method\n",
    "    def eats_grass(self):\n",
    "        return False\n",
    "\n",
    "miew = Cat()\n",
    "print(miew.is_animal())\n",
    "print(miew.eats_grass())"
   ]
  },
  {
   "cell_type": "markdown",
   "id": "ab18bd10",
   "metadata": {},
   "source": [
    "<h3>5.5 Polymorphism</h3>"
   ]
  },
  {
   "cell_type": "markdown",
   "id": "838c770f",
   "metadata": {},
   "source": [
    "Polymorphism is the ability of an object to have many forms."
   ]
  },
  {
   "cell_type": "markdown",
   "id": "b4d01026",
   "metadata": {},
   "source": [
    "Polymorphism with functions"
   ]
  },
  {
   "cell_type": "code",
   "execution_count": 12,
   "id": "d90ec471",
   "metadata": {},
   "outputs": [
    {
     "name": "stdout",
     "output_type": "stream",
     "text": [
      "13\n",
      "5\n"
     ]
    }
   ],
   "source": [
    "print(len(\"hello python!\"))\n",
    "print(len([1, 2, 3, 4, 5]))"
   ]
  },
  {
   "cell_type": "markdown",
   "id": "d46f7fc0",
   "metadata": {},
   "source": [
    "Polymorphism with classes, and inheritence"
   ]
  },
  {
   "cell_type": "code",
   "execution_count": 13,
   "id": "bd1b2366",
   "metadata": {},
   "outputs": [],
   "source": [
    "class Animal:\n",
    "    def sound(self):\n",
    "        pass\n",
    "\n",
    "class Cat(Animal):\n",
    "    def sound(self):\n",
    "        print(\"miew~~\")\n",
    "\n",
    "class Bird(Animal):\n",
    "    def sound(self):\n",
    "        print(\"cuitcuit\")\n",
    "\n",
    "class Fish(Animal):\n",
    "    def sound(self):\n",
    "        print(\"...\")"
   ]
  },
  {
   "cell_type": "code",
   "execution_count": 14,
   "id": "f79feb22",
   "metadata": {},
   "outputs": [
    {
     "name": "stdout",
     "output_type": "stream",
     "text": [
      "miew~~\n",
      "cuitcuit\n",
      "...\n"
     ]
    }
   ],
   "source": [
    "kitty = Cat()\n",
    "petty = Bird()\n",
    "jelly = Fish()\n",
    "my_pets = [kitty, petty, jelly]\n",
    "\n",
    "for pet in my_pets:\n",
    "    pet.sound()"
   ]
  },
  {
   "cell_type": "code",
   "execution_count": 15,
   "id": "f65af303",
   "metadata": {},
   "outputs": [
    {
     "name": "stdout",
     "output_type": "stream",
     "text": [
      "True\n",
      "True\n"
     ]
    }
   ],
   "source": [
    "print(isinstance(kitty, Cat))\n",
    "print(isinstance(kitty, Animal))"
   ]
  },
  {
   "cell_type": "code",
   "execution_count": null,
   "id": "1c7aa4cd",
   "metadata": {},
   "outputs": [],
   "source": []
  }
 ],
 "metadata": {
  "kernelspec": {
   "display_name": "Python 3 (ipykernel)",
   "language": "python",
   "name": "python3"
  },
  "language_info": {
   "codemirror_mode": {
    "name": "ipython",
    "version": 3
   },
   "file_extension": ".py",
   "mimetype": "text/x-python",
   "name": "python",
   "nbconvert_exporter": "python",
   "pygments_lexer": "ipython3",
   "version": "3.8.13"
  }
 },
 "nbformat": 4,
 "nbformat_minor": 5
}
