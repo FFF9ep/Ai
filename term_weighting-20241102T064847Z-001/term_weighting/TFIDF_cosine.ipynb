{
 "cells": [
  {
   "cell_type": "code",
   "execution_count": 34,
   "metadata": {},
   "outputs": [],
   "source": [
    "import pandas as pd\n",
    "from sklearn.feature_extraction.text import TfidfVectorizer\n",
    "from sklearn.metrics.pairwise import cosine_similarity"
   ]
  },
  {
   "cell_type": "code",
   "execution_count": 37,
   "metadata": {},
   "outputs": [],
   "source": [
    "def TFIDF_cosine(test_series, train_series, tokenizer):\n",
    "    \"\"\"\n",
    "    return the tf idf score of each possible pairs of documents\n",
    "    Args:\n",
    "        new_series (pd.Series): new data (To compare against train data)\n",
    "        train_series (pd.Series): train data (To fit the tf-idf transformer)\n",
    "    Returns:\n",
    "        pd.DataFrame\n",
    "    \"\"\"\n",
    "\n",
    "    train_tfidf = tokenizer.fit_transform(train_series)\n",
    "    test_tfidf = tokenizer.transform(test_series)\n",
    "    X = pd.DataFrame(cosine_similarity(test_tfidf, train_tfidf), columns=train_series.index)\n",
    "    X['test_set'] = test_series.index\n",
    "    score = pd.melt(\n",
    "        X,\n",
    "        id_vars='test_set',\n",
    "        var_name='train_set',\n",
    "        value_name='cosine_similarity'\n",
    "    )\n",
    "    return score"
   ]
  },
  {
   "cell_type": "code",
   "execution_count": 38,
   "metadata": {},
   "outputs": [
    {
     "name": "stdout",
     "output_type": "stream",
     "text": [
      "train_set =\n",
      " 0                 The sky is blue.\n",
      "1               The sun is bright.\n",
      "2    The sun in the sky is bright.\n",
      "dtype: object\n",
      "=============================================================================================================\n",
      "\n",
      "test_set =\n",
      " 0    The sun in the sky is bright.\n",
      "dtype: object\n",
      "=============================================================================================================\n",
      "\n"
     ]
    },
    {
     "data": {
      "text/html": [
       "<div>\n",
       "<style scoped>\n",
       "    .dataframe tbody tr th:only-of-type {\n",
       "        vertical-align: middle;\n",
       "    }\n",
       "\n",
       "    .dataframe tbody tr th {\n",
       "        vertical-align: top;\n",
       "    }\n",
       "\n",
       "    .dataframe thead th {\n",
       "        text-align: right;\n",
       "    }\n",
       "</style>\n",
       "<table border=\"1\" class=\"dataframe\">\n",
       "  <thead>\n",
       "    <tr style=\"text-align: right;\">\n",
       "      <th></th>\n",
       "      <th>test_set</th>\n",
       "      <th>train_set</th>\n",
       "      <th>cosine_similarity</th>\n",
       "    </tr>\n",
       "  </thead>\n",
       "  <tbody>\n",
       "    <tr>\n",
       "      <th>0</th>\n",
       "      <td>0</td>\n",
       "      <td>0</td>\n",
       "      <td>0.508890</td>\n",
       "    </tr>\n",
       "    <tr>\n",
       "      <th>1</th>\n",
       "      <td>0</td>\n",
       "      <td>1</td>\n",
       "      <td>0.764461</td>\n",
       "    </tr>\n",
       "    <tr>\n",
       "      <th>2</th>\n",
       "      <td>0</td>\n",
       "      <td>2</td>\n",
       "      <td>1.000000</td>\n",
       "    </tr>\n",
       "  </tbody>\n",
       "</table>\n",
       "</div>"
      ],
      "text/plain": [
       "   test_set train_set  cosine_similarity\n",
       "0         0         0           0.508890\n",
       "1         0         1           0.764461\n",
       "2         0         2           1.000000"
      ]
     },
     "execution_count": 38,
     "metadata": {},
     "output_type": "execute_result"
    }
   ],
   "source": [
    "train_set = pd.Series([\"The sky is blue.\", \"The sun is bright.\", \"The sun in the sky is bright.\"])\n",
    "print(\"train_set =\\n\", train_set)\n",
    "print(\"=============================================================================================================\\n\")\n",
    "\n",
    "test_set = pd.Series([\"The sun in the sky is bright.\"])\n",
    "print(\"test_set =\\n\", test_set)\n",
    "print(\"=============================================================================================================\\n\")\n",
    "\n",
    "TfidfVectorizer_object = TfidfVectorizer() # initiate here your own tokenizer (TfidfVectorizer, CountVectorizer, with stopwords...)\n",
    "#print(\"tokenizer =\\n\", tokenizer)\n",
    "#print(\"=============================================================================================================\\n\")\n",
    "\n",
    "score = TFIDF_cosine(train_series=train_set, test_series=test_set, tokenizer=TfidfVectorizer_object)\n",
    "score\n",
    "#print(score)"
   ]
  },
  {
   "cell_type": "code",
   "execution_count": null,
   "metadata": {},
   "outputs": [],
   "source": []
  }
 ],
 "metadata": {
  "kernelspec": {
   "display_name": "Python 3",
   "language": "python",
   "name": "python3"
  },
  "language_info": {
   "codemirror_mode": {
    "name": "ipython",
    "version": 3
   },
   "file_extension": ".py",
   "mimetype": "text/x-python",
   "name": "python",
   "nbconvert_exporter": "python",
   "pygments_lexer": "ipython3",
   "version": "3.7.3"
  }
 },
 "nbformat": 4,
 "nbformat_minor": 2
}
