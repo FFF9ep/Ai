{
 "cells": [
  {
   "cell_type": "code",
   "execution_count": 2,
   "id": "6f384a72-3463-43f7-aa68-61c1187e2228",
   "metadata": {},
   "outputs": [
    {
     "name": "stdout",
     "output_type": "stream",
     "text": [
      "Requirement already satisfied: beautifulsoup4 in c:\\users\\tian\\anaconda3\\lib\\site-packages (4.10.0)\n",
      "Requirement already satisfied: soupsieve>1.2 in c:\\users\\tian\\anaconda3\\lib\\site-packages (from beautifulsoup4) (2.2.1)\n",
      "Note: you may need to restart the kernel to use updated packages.\n"
     ]
    }
   ],
   "source": [
    "pip install beautifulsoup4"
   ]
  },
  {
   "cell_type": "code",
   "execution_count": 3,
   "id": "dabf8935-83e3-4c31-8b93-490d146be743",
   "metadata": {},
   "outputs": [
    {
     "name": "stdout",
     "output_type": "stream",
     "text": [
      "Requirement already satisfied: requests in c:\\users\\tian\\anaconda3\\lib\\site-packages (2.26.0)\n",
      "Requirement already satisfied: urllib3<1.27,>=1.21.1 in c:\\users\\tian\\anaconda3\\lib\\site-packages (from requests) (1.26.7)\n",
      "Requirement already satisfied: charset-normalizer~=2.0.0 in c:\\users\\tian\\anaconda3\\lib\\site-packages (from requests) (2.0.4)\n",
      "Requirement already satisfied: idna<4,>=2.5 in c:\\users\\tian\\anaconda3\\lib\\site-packages (from requests) (3.2)\n",
      "Requirement already satisfied: certifi>=2017.4.17 in c:\\users\\tian\\anaconda3\\lib\\site-packages (from requests) (2021.10.8)\n",
      "Note: you may need to restart the kernel to use updated packages.\n"
     ]
    }
   ],
   "source": [
    "pip install requests"
   ]
  },
  {
   "cell_type": "code",
   "execution_count": 1,
   "id": "a2306c41-5210-4a80-af85-d632d6e3db0d",
   "metadata": {},
   "outputs": [],
   "source": [
    "import pandas as pd\n",
    "from bs4 import BeautifulSoup\n",
    "from urllib.request import Request, urlopen"
   ]
  },
  {
   "cell_type": "code",
   "execution_count": 2,
   "id": "b5abeceb-c1a2-4cc5-9836-16746d862769",
   "metadata": {},
   "outputs": [],
   "source": [
    "alamat = \"https://en.wikipedia.org/wiki/List_of_Dragon_Ball_episodes\"\n",
    "req = Request(alamat, headers={'User-Agent': 'Mozilla/5.0'})"
   ]
  },
  {
   "cell_type": "code",
   "execution_count": 3,
   "id": "8dd0bb27-03ef-4081-9937-167fe571de66",
   "metadata": {},
   "outputs": [],
   "source": [
    "html = urlopen(req).read()\n",
    "data = BeautifulSoup(html, 'html.parser')\n",
    "table = data.find_all('table', {'class': 'wikitable'})[0]"
   ]
  },
  {
   "cell_type": "code",
   "execution_count": 4,
   "id": "6aa8fe10-aac5-403d-a11c-66436322b1f7",
   "metadata": {},
   "outputs": [
    {
     "name": "stdout",
     "output_type": "stream",
     "text": [
      "<table class=\"wikitable plainrowheaders\" style=\"text-align:center;height:1px;display:table\"><tbody><tr style=\"text-align:center\"><th rowspan=\"2\" scope=\"col\" style=\"min-width:50px;padding:0 8px\">Season<sup class=\"reference\" id=\"cite_ref-1\"><a href=\"#cite_note-1\">[a]</a></sup></th><th colspan=\"2\" rowspan=\"2\" scope=\"col\" style=\"padding:0 8px\">Episodes</th><th colspan=\"2\" scope=\"col\">Originally aired</th></tr><tr><th scope=\"col\">First aired</th><th scope=\"col\">Last aired</th></tr><tr style=\"height:100%\"><th colspan=\"1\" scope=\"row\" style=\"height:inherit;padding:0\"><span style=\"text-align:center;float:left;width:100%;height:100%\"><span style=\"width:14px;background:#C0C0C0;height:100%;float:left;box-shadow:inset -1px 0 #A2A9B1\"></span><span style=\"height:100%;width:calc(100% - 14px);display:flex;vertical-align:middle;align-items:center;justify-content:center\"><span class=\"nowrap\"><a href=\"#Season_1:_Emperor_Pilaf_Saga_(1986)\">1</a></span></span></span></th><td colspan=\"2\">13</td><td colspan=\"1\" style=\"padding:0.2em 0.4em\">February 26, 1986<span style=\"display:none\"> (<span class=\"bday dtstart published updated\">1986-02-26</span>)</span></td><td style=\"padding:0 8px\">May 21, 1986<span style=\"display:none\"> (<span class=\"dtend\">1986-05-21</span>)</span></td></tr><tr style=\"height:100%\"><th colspan=\"1\" scope=\"row\" style=\"height:inherit;padding:0\"><span style=\"text-align:center;float:left;width:100%;height:100%\"><span style=\"width:14px;background:#2FCE1F;height:100%;float:left;box-shadow:inset -1px 0 #A2A9B1\"></span><span style=\"height:100%;width:calc(100% - 14px);display:flex;vertical-align:middle;align-items:center;justify-content:center\"><span class=\"nowrap\"><a href=\"#Season_2:_Tournament_Saga_(1986)\">2</a></span></span></span></th><td colspan=\"2\">15</td><td colspan=\"1\" style=\"padding:0.2em 0.4em\">May 28, 1986<span style=\"display:none\"> (<span class=\"bday dtstart published updated\">1986-05-28</span>)</span></td><td style=\"padding:0 8px\">September 3, 1986<span style=\"display:none\"> (<span class=\"dtend\">1986-09-03</span>)</span></td></tr><tr style=\"height:100%\"><th colspan=\"1\" scope=\"row\" style=\"height:inherit;padding:0\"><span style=\"text-align:center;float:left;width:100%;height:100%\"><span style=\"width:14px;background:#C271FF;height:100%;float:left;box-shadow:inset -1px 0 #A2A9B1\"></span><span style=\"height:100%;width:calc(100% - 14px);display:flex;vertical-align:middle;align-items:center;justify-content:center\"><span class=\"nowrap\"><a href=\"#Season_3:_Red_Ribbon_Army_Saga_(1986–87)\">3</a></span></span></span></th><td colspan=\"2\">17</td><td colspan=\"1\" style=\"padding:0.2em 0.4em\">September 10, 1986<span style=\"display:none\"> (<span class=\"bday dtstart published updated\">1986-09-10</span>)</span></td><td style=\"padding:0 8px\">January 7, 1987<span style=\"display:none\"> (<span class=\"dtend\">1987-01-07</span>)</span></td></tr><tr style=\"height:100%\"><th colspan=\"1\" scope=\"row\" style=\"height:inherit;padding:0\"><span style=\"text-align:center;float:left;width:100%;height:100%\"><span style=\"width:14px;background:#FF9933;height:100%;float:left;box-shadow:inset -1px 0 #A2A9B1\"></span><span style=\"height:100%;width:calc(100% - 14px);display:flex;vertical-align:middle;align-items:center;justify-content:center\"><span class=\"nowrap\"><a href=\"#Season_4:_General_Blue_Saga_(1987)\">4</a></span></span></span></th><td colspan=\"2\">12</td><td colspan=\"1\" style=\"padding:0.2em 0.4em\">January 14, 1987<span style=\"display:none\"> (<span class=\"bday dtstart published updated\">1987-01-14</span>)</span></td><td style=\"padding:0 8px\">April 8, 1987<span style=\"display:none\"> (<span class=\"dtend\">1987-04-08</span>)</span></td></tr><tr style=\"height:100%\"><th colspan=\"1\" scope=\"row\" style=\"height:inherit;padding:0\"><span style=\"text-align:center;float:left;width:100%;height:100%\"><span style=\"width:14px;background:#AE1C26;height:100%;float:left;box-shadow:inset -1px 0 #A2A9B1\"></span><span style=\"height:100%;width:calc(100% - 14px);display:flex;vertical-align:middle;align-items:center;justify-content:center\"><span class=\"nowrap\"><a href=\"#Season_5:_Commander_Red_Saga_(1987)\">5</a></span></span></span></th><td colspan=\"2\">11</td><td colspan=\"1\" style=\"padding:0.2em 0.4em\">April 15, 1987<span style=\"display:none\"> (<span class=\"bday dtstart published updated\">1987-04-15</span>)</span></td><td style=\"padding:0 8px\">July 1, 1987<span style=\"display:none\"> (<span class=\"dtend\">1987-07-01</span>)</span></td></tr><tr style=\"height:100%\"><th colspan=\"1\" scope=\"row\" style=\"height:inherit;padding:0\"><span style=\"text-align:center;float:left;width:100%;height:100%\"><span style=\"width:14px;background:#FBEC5D;height:100%;float:left;box-shadow:inset -1px 0 #A2A9B1\"></span><span style=\"height:100%;width:calc(100% - 14px);display:flex;vertical-align:middle;align-items:center;justify-content:center\"><span class=\"nowrap\"><a href=\"#Season_6:_Fortuneteller_Baba_Saga_(1987)\">6</a></span></span></span></th><td colspan=\"2\">14</td><td colspan=\"1\" style=\"padding:0.2em 0.4em\">July 8, 1987<span style=\"display:none\"> (<span class=\"bday dtstart published updated\">1987-07-08</span>)</span></td><td style=\"padding:0 8px\">October 7, 1987<span style=\"display:none\"> (<span class=\"dtend\">1987-10-07</span>)</span></td></tr><tr style=\"height:100%\"><th colspan=\"1\" scope=\"row\" style=\"height:inherit;padding:0\"><span style=\"text-align:center;float:left;width:100%;height:100%\"><span style=\"width:14px;background:#00B6C8;height:100%;float:left;box-shadow:inset -1px 0 #A2A9B1\"></span><span style=\"height:100%;width:calc(100% - 14px);display:flex;vertical-align:middle;align-items:center;justify-content:center\"><span class=\"nowrap\"><a href=\"#Season_7:_Tien_Shinhan_Saga_(1987–88)\">7</a></span></span></span></th><td colspan=\"2\">19</td><td colspan=\"1\" style=\"padding:0.2em 0.4em\">October 14, 1987<span style=\"display:none\"> (<span class=\"bday dtstart published updated\">1987-10-14</span>)</span></td><td style=\"padding:0 8px\">February 17, 1988<span style=\"display:none\"> (<span class=\"dtend\">1988-02-17</span>)</span></td></tr><tr style=\"height:100%\"><th colspan=\"1\" scope=\"row\" style=\"height:inherit;padding:0\"><span style=\"text-align:center;float:left;width:100%;height:100%\"><span style=\"width:14px;background:#302A81;height:100%;float:left;box-shadow:inset -1px 0 #A2A9B1\"></span><span style=\"height:100%;width:calc(100% - 14px);display:flex;vertical-align:middle;align-items:center;justify-content:center\"><span class=\"nowrap\"><a href=\"#Season_8:_King_Piccolo_Saga_(1988)\">8</a></span></span></span></th><td colspan=\"2\">21</td><td colspan=\"1\" style=\"padding:0.2em 0.4em\">February 24, 1988<span style=\"display:none\"> (<span class=\"bday dtstart published updated\">1988-02-24</span>)</span></td><td style=\"padding:0 8px\">August 10, 1988<span style=\"display:none\"> (<span class=\"dtend\">1988-08-10</span>)</span></td></tr><tr style=\"height:100%\"><th colspan=\"1\" scope=\"row\" style=\"height:inherit;padding:0\"><span style=\"text-align:center;float:left;width:100%;height:100%\"><span style=\"width:14px;background:#E4728B;height:100%;float:left;box-shadow:inset -1px 0 #A2A9B1\"></span><span style=\"height:100%;width:calc(100% - 14px);display:flex;vertical-align:middle;align-items:center;justify-content:center\"><span class=\"nowrap\"><a href=\"#Season_9:_Piccolo_Jr._Saga_(1988–89)\">9</a></span></span></span></th><td colspan=\"2\">31</td><td colspan=\"1\" style=\"padding:0.2em 0.4em\">August 27, 1988<span style=\"display:none\"> (<span class=\"bday dtstart published updated\">1988-08-27</span>)</span></td><td style=\"padding:0 8px\">April 19, 1989<span style=\"display:none\"> (<span class=\"dtend\">1989-04-19</span>)</span></td></tr></tbody></table>\n"
     ]
    }
   ],
   "source": [
    "print(table)"
   ]
  },
  {
   "cell_type": "code",
   "execution_count": 5,
   "id": "98d8d428-ee67-4842-b403-885f8c1c69bb",
   "metadata": {},
   "outputs": [],
   "source": [
    "rows = table.findAll('tr')\n",
    "# menyimpan per baris dari tabel kedalam sebuah list bernama \"rows\""
   ]
  },
  {
   "cell_type": "code",
   "execution_count": 11,
   "id": "f72686e5-d451-4d64-8f1a-d7b1d5542df4",
   "metadata": {},
   "outputs": [
    {
     "data": {
      "text/plain": [
       "[<tr style=\"text-align:center\"><th rowspan=\"2\" scope=\"col\" style=\"min-width:50px;padding:0 8px\">Season<sup class=\"reference\" id=\"cite_ref-1\"><a href=\"#cite_note-1\">[a]</a></sup></th><th colspan=\"2\" rowspan=\"2\" scope=\"col\" style=\"padding:0 8px\">Episodes</th><th colspan=\"2\" scope=\"col\">Originally aired</th></tr>,\n",
       " <tr><th scope=\"col\">First aired</th><th scope=\"col\">Last aired</th></tr>,\n",
       " <tr style=\"height:100%\"><th colspan=\"1\" scope=\"row\" style=\"height:inherit;padding:0\"><span style=\"text-align:center;float:left;width:100%;height:100%\"><span style=\"width:14px;background:#C0C0C0;height:100%;float:left;box-shadow:inset -1px 0 #A2A9B1\"></span><span style=\"height:100%;width:calc(100% - 14px);display:flex;vertical-align:middle;align-items:center;justify-content:center\"><span class=\"nowrap\"><a href=\"#Season_1:_Emperor_Pilaf_Saga_(1986)\">1</a></span></span></span></th><td colspan=\"2\">13</td><td colspan=\"1\" style=\"padding:0.2em 0.4em\">February 26, 1986<span style=\"display:none\"> (<span class=\"bday dtstart published updated\">1986-02-26</span>)</span></td><td style=\"padding:0 8px\">May 21, 1986<span style=\"display:none\"> (<span class=\"dtend\">1986-05-21</span>)</span></td></tr>,\n",
       " <tr style=\"height:100%\"><th colspan=\"1\" scope=\"row\" style=\"height:inherit;padding:0\"><span style=\"text-align:center;float:left;width:100%;height:100%\"><span style=\"width:14px;background:#2FCE1F;height:100%;float:left;box-shadow:inset -1px 0 #A2A9B1\"></span><span style=\"height:100%;width:calc(100% - 14px);display:flex;vertical-align:middle;align-items:center;justify-content:center\"><span class=\"nowrap\"><a href=\"#Season_2:_Tournament_Saga_(1986)\">2</a></span></span></span></th><td colspan=\"2\">15</td><td colspan=\"1\" style=\"padding:0.2em 0.4em\">May 28, 1986<span style=\"display:none\"> (<span class=\"bday dtstart published updated\">1986-05-28</span>)</span></td><td style=\"padding:0 8px\">September 3, 1986<span style=\"display:none\"> (<span class=\"dtend\">1986-09-03</span>)</span></td></tr>,\n",
       " <tr style=\"height:100%\"><th colspan=\"1\" scope=\"row\" style=\"height:inherit;padding:0\"><span style=\"text-align:center;float:left;width:100%;height:100%\"><span style=\"width:14px;background:#C271FF;height:100%;float:left;box-shadow:inset -1px 0 #A2A9B1\"></span><span style=\"height:100%;width:calc(100% - 14px);display:flex;vertical-align:middle;align-items:center;justify-content:center\"><span class=\"nowrap\"><a href=\"#Season_3:_Red_Ribbon_Army_Saga_(1986–87)\">3</a></span></span></span></th><td colspan=\"2\">17</td><td colspan=\"1\" style=\"padding:0.2em 0.4em\">September 10, 1986<span style=\"display:none\"> (<span class=\"bday dtstart published updated\">1986-09-10</span>)</span></td><td style=\"padding:0 8px\">January 7, 1987<span style=\"display:none\"> (<span class=\"dtend\">1987-01-07</span>)</span></td></tr>,\n",
       " <tr style=\"height:100%\"><th colspan=\"1\" scope=\"row\" style=\"height:inherit;padding:0\"><span style=\"text-align:center;float:left;width:100%;height:100%\"><span style=\"width:14px;background:#FF9933;height:100%;float:left;box-shadow:inset -1px 0 #A2A9B1\"></span><span style=\"height:100%;width:calc(100% - 14px);display:flex;vertical-align:middle;align-items:center;justify-content:center\"><span class=\"nowrap\"><a href=\"#Season_4:_General_Blue_Saga_(1987)\">4</a></span></span></span></th><td colspan=\"2\">12</td><td colspan=\"1\" style=\"padding:0.2em 0.4em\">January 14, 1987<span style=\"display:none\"> (<span class=\"bday dtstart published updated\">1987-01-14</span>)</span></td><td style=\"padding:0 8px\">April 8, 1987<span style=\"display:none\"> (<span class=\"dtend\">1987-04-08</span>)</span></td></tr>,\n",
       " <tr style=\"height:100%\"><th colspan=\"1\" scope=\"row\" style=\"height:inherit;padding:0\"><span style=\"text-align:center;float:left;width:100%;height:100%\"><span style=\"width:14px;background:#AE1C26;height:100%;float:left;box-shadow:inset -1px 0 #A2A9B1\"></span><span style=\"height:100%;width:calc(100% - 14px);display:flex;vertical-align:middle;align-items:center;justify-content:center\"><span class=\"nowrap\"><a href=\"#Season_5:_Commander_Red_Saga_(1987)\">5</a></span></span></span></th><td colspan=\"2\">11</td><td colspan=\"1\" style=\"padding:0.2em 0.4em\">April 15, 1987<span style=\"display:none\"> (<span class=\"bday dtstart published updated\">1987-04-15</span>)</span></td><td style=\"padding:0 8px\">July 1, 1987<span style=\"display:none\"> (<span class=\"dtend\">1987-07-01</span>)</span></td></tr>,\n",
       " <tr style=\"height:100%\"><th colspan=\"1\" scope=\"row\" style=\"height:inherit;padding:0\"><span style=\"text-align:center;float:left;width:100%;height:100%\"><span style=\"width:14px;background:#FBEC5D;height:100%;float:left;box-shadow:inset -1px 0 #A2A9B1\"></span><span style=\"height:100%;width:calc(100% - 14px);display:flex;vertical-align:middle;align-items:center;justify-content:center\"><span class=\"nowrap\"><a href=\"#Season_6:_Fortuneteller_Baba_Saga_(1987)\">6</a></span></span></span></th><td colspan=\"2\">14</td><td colspan=\"1\" style=\"padding:0.2em 0.4em\">July 8, 1987<span style=\"display:none\"> (<span class=\"bday dtstart published updated\">1987-07-08</span>)</span></td><td style=\"padding:0 8px\">October 7, 1987<span style=\"display:none\"> (<span class=\"dtend\">1987-10-07</span>)</span></td></tr>,\n",
       " <tr style=\"height:100%\"><th colspan=\"1\" scope=\"row\" style=\"height:inherit;padding:0\"><span style=\"text-align:center;float:left;width:100%;height:100%\"><span style=\"width:14px;background:#00B6C8;height:100%;float:left;box-shadow:inset -1px 0 #A2A9B1\"></span><span style=\"height:100%;width:calc(100% - 14px);display:flex;vertical-align:middle;align-items:center;justify-content:center\"><span class=\"nowrap\"><a href=\"#Season_7:_Tien_Shinhan_Saga_(1987–88)\">7</a></span></span></span></th><td colspan=\"2\">19</td><td colspan=\"1\" style=\"padding:0.2em 0.4em\">October 14, 1987<span style=\"display:none\"> (<span class=\"bday dtstart published updated\">1987-10-14</span>)</span></td><td style=\"padding:0 8px\">February 17, 1988<span style=\"display:none\"> (<span class=\"dtend\">1988-02-17</span>)</span></td></tr>,\n",
       " <tr style=\"height:100%\"><th colspan=\"1\" scope=\"row\" style=\"height:inherit;padding:0\"><span style=\"text-align:center;float:left;width:100%;height:100%\"><span style=\"width:14px;background:#302A81;height:100%;float:left;box-shadow:inset -1px 0 #A2A9B1\"></span><span style=\"height:100%;width:calc(100% - 14px);display:flex;vertical-align:middle;align-items:center;justify-content:center\"><span class=\"nowrap\"><a href=\"#Season_8:_King_Piccolo_Saga_(1988)\">8</a></span></span></span></th><td colspan=\"2\">21</td><td colspan=\"1\" style=\"padding:0.2em 0.4em\">February 24, 1988<span style=\"display:none\"> (<span class=\"bday dtstart published updated\">1988-02-24</span>)</span></td><td style=\"padding:0 8px\">August 10, 1988<span style=\"display:none\"> (<span class=\"dtend\">1988-08-10</span>)</span></td></tr>,\n",
       " <tr style=\"height:100%\"><th colspan=\"1\" scope=\"row\" style=\"height:inherit;padding:0\"><span style=\"text-align:center;float:left;width:100%;height:100%\"><span style=\"width:14px;background:#E4728B;height:100%;float:left;box-shadow:inset -1px 0 #A2A9B1\"></span><span style=\"height:100%;width:calc(100% - 14px);display:flex;vertical-align:middle;align-items:center;justify-content:center\"><span class=\"nowrap\"><a href=\"#Season_9:_Piccolo_Jr._Saga_(1988–89)\">9</a></span></span></span></th><td colspan=\"2\">31</td><td colspan=\"1\" style=\"padding:0.2em 0.4em\">August 27, 1988<span style=\"display:none\"> (<span class=\"bday dtstart published updated\">1988-08-27</span>)</span></td><td style=\"padding:0 8px\">April 19, 1989<span style=\"display:none\"> (<span class=\"dtend\">1989-04-19</span>)</span></td></tr>]"
      ]
     },
     "execution_count": 11,
     "metadata": {},
     "output_type": "execute_result"
    }
   ],
   "source": [
    "rows"
   ]
  },
  {
   "cell_type": "code",
   "execution_count": 6,
   "id": "1d8efa33-26eb-4523-920d-e7982bafb930",
   "metadata": {},
   "outputs": [],
   "source": [
    "hasil = []\n",
    "for row in rows:\n",
    "   cols = row.find_all('td')\n",
    "   cols = [ele.text.strip() for ele in cols]\n",
    "   hasil.append(cols)"
   ]
  },
  {
   "cell_type": "code",
   "execution_count": 7,
   "id": "ac3270ac-df19-4208-bf3f-0227865b2bf1",
   "metadata": {},
   "outputs": [
    {
     "data": {
      "text/html": [
       "<div>\n",
       "<style scoped>\n",
       "    .dataframe tbody tr th:only-of-type {\n",
       "        vertical-align: middle;\n",
       "    }\n",
       "\n",
       "    .dataframe tbody tr th {\n",
       "        vertical-align: top;\n",
       "    }\n",
       "\n",
       "    .dataframe thead th {\n",
       "        text-align: right;\n",
       "    }\n",
       "</style>\n",
       "<table border=\"1\" class=\"dataframe\">\n",
       "  <thead>\n",
       "    <tr style=\"text-align: right;\">\n",
       "      <th></th>\n",
       "      <th>0</th>\n",
       "      <th>1</th>\n",
       "      <th>2</th>\n",
       "    </tr>\n",
       "  </thead>\n",
       "  <tbody>\n",
       "    <tr>\n",
       "      <th>0</th>\n",
       "      <td>None</td>\n",
       "      <td>None</td>\n",
       "      <td>None</td>\n",
       "    </tr>\n",
       "    <tr>\n",
       "      <th>1</th>\n",
       "      <td>None</td>\n",
       "      <td>None</td>\n",
       "      <td>None</td>\n",
       "    </tr>\n",
       "    <tr>\n",
       "      <th>2</th>\n",
       "      <td>13</td>\n",
       "      <td>February 26, 1986 (1986-02-26)</td>\n",
       "      <td>May 21, 1986 (1986-05-21)</td>\n",
       "    </tr>\n",
       "    <tr>\n",
       "      <th>3</th>\n",
       "      <td>15</td>\n",
       "      <td>May 28, 1986 (1986-05-28)</td>\n",
       "      <td>September 3, 1986 (1986-09-03)</td>\n",
       "    </tr>\n",
       "    <tr>\n",
       "      <th>4</th>\n",
       "      <td>17</td>\n",
       "      <td>September 10, 1986 (1986-09-10)</td>\n",
       "      <td>January 7, 1987 (1987-01-07)</td>\n",
       "    </tr>\n",
       "    <tr>\n",
       "      <th>5</th>\n",
       "      <td>12</td>\n",
       "      <td>January 14, 1987 (1987-01-14)</td>\n",
       "      <td>April 8, 1987 (1987-04-08)</td>\n",
       "    </tr>\n",
       "    <tr>\n",
       "      <th>6</th>\n",
       "      <td>11</td>\n",
       "      <td>April 15, 1987 (1987-04-15)</td>\n",
       "      <td>July 1, 1987 (1987-07-01)</td>\n",
       "    </tr>\n",
       "    <tr>\n",
       "      <th>7</th>\n",
       "      <td>14</td>\n",
       "      <td>July 8, 1987 (1987-07-08)</td>\n",
       "      <td>October 7, 1987 (1987-10-07)</td>\n",
       "    </tr>\n",
       "    <tr>\n",
       "      <th>8</th>\n",
       "      <td>19</td>\n",
       "      <td>October 14, 1987 (1987-10-14)</td>\n",
       "      <td>February 17, 1988 (1988-02-17)</td>\n",
       "    </tr>\n",
       "    <tr>\n",
       "      <th>9</th>\n",
       "      <td>21</td>\n",
       "      <td>February 24, 1988 (1988-02-24)</td>\n",
       "      <td>August 10, 1988 (1988-08-10)</td>\n",
       "    </tr>\n",
       "    <tr>\n",
       "      <th>10</th>\n",
       "      <td>31</td>\n",
       "      <td>August 27, 1988 (1988-08-27)</td>\n",
       "      <td>April 19, 1989 (1989-04-19)</td>\n",
       "    </tr>\n",
       "  </tbody>\n",
       "</table>\n",
       "</div>"
      ],
      "text/plain": [
       "       0                                1                               2\n",
       "0   None                             None                            None\n",
       "1   None                             None                            None\n",
       "2     13   February 26, 1986 (1986-02-26)       May 21, 1986 (1986-05-21)\n",
       "3     15        May 28, 1986 (1986-05-28)  September 3, 1986 (1986-09-03)\n",
       "4     17  September 10, 1986 (1986-09-10)    January 7, 1987 (1987-01-07)\n",
       "5     12    January 14, 1987 (1987-01-14)      April 8, 1987 (1987-04-08)\n",
       "6     11      April 15, 1987 (1987-04-15)       July 1, 1987 (1987-07-01)\n",
       "7     14        July 8, 1987 (1987-07-08)    October 7, 1987 (1987-10-07)\n",
       "8     19    October 14, 1987 (1987-10-14)  February 17, 1988 (1988-02-17)\n",
       "9     21   February 24, 1988 (1988-02-24)    August 10, 1988 (1988-08-10)\n",
       "10    31     August 27, 1988 (1988-08-27)     April 19, 1989 (1989-04-19)"
      ]
     },
     "execution_count": 7,
     "metadata": {},
     "output_type": "execute_result"
    }
   ],
   "source": [
    "df_hasil = pd.DataFrame(hasil)\n",
    "df_hasil"
   ]
  },
  {
   "cell_type": "code",
   "execution_count": 8,
   "id": "ac9fec50-3159-40f8-bc12-4aebd0ca90a3",
   "metadata": {},
   "outputs": [],
   "source": [
    "# df_hasil = df_hasil.drop([0], axis=1) # menghapus kolom pertama\n",
    "df_hasil = df_hasil.drop([0], axis=0) # menghapus baris pertama\n",
    "df_hasil = df_hasil.drop([1], axis=0) # menghapus baris kedua"
   ]
  },
  {
   "cell_type": "code",
   "execution_count": 9,
   "id": "85b6bfd6-da9b-4e6b-b3d3-41e51525a4dd",
   "metadata": {},
   "outputs": [
    {
     "data": {
      "text/html": [
       "<div>\n",
       "<style scoped>\n",
       "    .dataframe tbody tr th:only-of-type {\n",
       "        vertical-align: middle;\n",
       "    }\n",
       "\n",
       "    .dataframe tbody tr th {\n",
       "        vertical-align: top;\n",
       "    }\n",
       "\n",
       "    .dataframe thead th {\n",
       "        text-align: right;\n",
       "    }\n",
       "</style>\n",
       "<table border=\"1\" class=\"dataframe\">\n",
       "  <thead>\n",
       "    <tr style=\"text-align: right;\">\n",
       "      <th></th>\n",
       "      <th>0</th>\n",
       "      <th>1</th>\n",
       "      <th>2</th>\n",
       "    </tr>\n",
       "  </thead>\n",
       "  <tbody>\n",
       "    <tr>\n",
       "      <th>2</th>\n",
       "      <td>13</td>\n",
       "      <td>February 26, 1986 (1986-02-26)</td>\n",
       "      <td>May 21, 1986 (1986-05-21)</td>\n",
       "    </tr>\n",
       "    <tr>\n",
       "      <th>3</th>\n",
       "      <td>15</td>\n",
       "      <td>May 28, 1986 (1986-05-28)</td>\n",
       "      <td>September 3, 1986 (1986-09-03)</td>\n",
       "    </tr>\n",
       "    <tr>\n",
       "      <th>4</th>\n",
       "      <td>17</td>\n",
       "      <td>September 10, 1986 (1986-09-10)</td>\n",
       "      <td>January 7, 1987 (1987-01-07)</td>\n",
       "    </tr>\n",
       "    <tr>\n",
       "      <th>5</th>\n",
       "      <td>12</td>\n",
       "      <td>January 14, 1987 (1987-01-14)</td>\n",
       "      <td>April 8, 1987 (1987-04-08)</td>\n",
       "    </tr>\n",
       "    <tr>\n",
       "      <th>6</th>\n",
       "      <td>11</td>\n",
       "      <td>April 15, 1987 (1987-04-15)</td>\n",
       "      <td>July 1, 1987 (1987-07-01)</td>\n",
       "    </tr>\n",
       "    <tr>\n",
       "      <th>7</th>\n",
       "      <td>14</td>\n",
       "      <td>July 8, 1987 (1987-07-08)</td>\n",
       "      <td>October 7, 1987 (1987-10-07)</td>\n",
       "    </tr>\n",
       "    <tr>\n",
       "      <th>8</th>\n",
       "      <td>19</td>\n",
       "      <td>October 14, 1987 (1987-10-14)</td>\n",
       "      <td>February 17, 1988 (1988-02-17)</td>\n",
       "    </tr>\n",
       "    <tr>\n",
       "      <th>9</th>\n",
       "      <td>21</td>\n",
       "      <td>February 24, 1988 (1988-02-24)</td>\n",
       "      <td>August 10, 1988 (1988-08-10)</td>\n",
       "    </tr>\n",
       "    <tr>\n",
       "      <th>10</th>\n",
       "      <td>31</td>\n",
       "      <td>August 27, 1988 (1988-08-27)</td>\n",
       "      <td>April 19, 1989 (1989-04-19)</td>\n",
       "    </tr>\n",
       "  </tbody>\n",
       "</table>\n",
       "</div>"
      ],
      "text/plain": [
       "     0                                1                               2\n",
       "2   13   February 26, 1986 (1986-02-26)       May 21, 1986 (1986-05-21)\n",
       "3   15        May 28, 1986 (1986-05-28)  September 3, 1986 (1986-09-03)\n",
       "4   17  September 10, 1986 (1986-09-10)    January 7, 1987 (1987-01-07)\n",
       "5   12    January 14, 1987 (1987-01-14)      April 8, 1987 (1987-04-08)\n",
       "6   11      April 15, 1987 (1987-04-15)       July 1, 1987 (1987-07-01)\n",
       "7   14        July 8, 1987 (1987-07-08)    October 7, 1987 (1987-10-07)\n",
       "8   19    October 14, 1987 (1987-10-14)  February 17, 1988 (1988-02-17)\n",
       "9   21   February 24, 1988 (1988-02-24)    August 10, 1988 (1988-08-10)\n",
       "10  31     August 27, 1988 (1988-08-27)     April 19, 1989 (1989-04-19)"
      ]
     },
     "execution_count": 9,
     "metadata": {},
     "output_type": "execute_result"
    }
   ],
   "source": [
    "df_hasil"
   ]
  },
  {
   "cell_type": "code",
   "execution_count": 10,
   "id": "c2e003bb-1614-4d54-9a93-c1f4dfed526f",
   "metadata": {},
   "outputs": [],
   "source": [
    "df_hasil.to_excel('data_serial_dragonball.xlsx', index=False)"
   ]
  },
  {
   "cell_type": "code",
   "execution_count": null,
   "id": "2ac9cebe-581f-4e9d-93b4-ea0e2a49f2eb",
   "metadata": {},
   "outputs": [],
   "source": []
  }
 ],
 "metadata": {
  "kernelspec": {
   "display_name": "Python 3 (ipykernel)",
   "language": "python",
   "name": "python3"
  },
  "language_info": {
   "codemirror_mode": {
    "name": "ipython",
    "version": 3
   },
   "file_extension": ".py",
   "mimetype": "text/x-python",
   "name": "python",
   "nbconvert_exporter": "python",
   "pygments_lexer": "ipython3",
   "version": "3.9.7"
  }
 },
 "nbformat": 4,
 "nbformat_minor": 5
}
